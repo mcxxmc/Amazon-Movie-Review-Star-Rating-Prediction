{
  "nbformat": 4,
  "nbformat_minor": 0,
  "metadata": {
    "colab": {
      "name": "CS506Midterm_NLPdatapreprocess.ipynb",
      "provenance": [],
      "collapsed_sections": []
    },
    "kernelspec": {
      "display_name": "Python 3",
      "name": "python3"
    }
  },
  "cells": [
    {
      "cell_type": "code",
      "metadata": {
        "id": "7WHgMOibDHzA"
      },
      "source": [
        "import pandas as pd\r\n",
        "import seaborn as sns\r\n",
        "import matplotlib.pyplot as plt\r\n",
        "import numpy as np\r\n",
        "\r\n",
        "from sklearn.model_selection import train_test_split\r\n",
        "from sklearn.metrics import mean_squared_error, confusion_matrix\r\n",
        "from sklearn.neighbors import KNeighborsClassifier\r\n",
        "from sklearn.naive_bayes import GaussianNB, MultinomialNB\r\n",
        "from sklearn.feature_extraction.text import CountVectorizer, TfidfVectorizer\r\n",
        "from sklearn.svm import SVC\r\n",
        "from sklearn.linear_model import LogisticRegression\r\n",
        "from sklearn.tree import DecisionTreeClassifier\r\n",
        "\r\n",
        "import string\r\n",
        "import collections"
      ],
      "execution_count": 1,
      "outputs": []
    },
    {
      "cell_type": "code",
      "metadata": {
        "colab": {
          "base_uri": "https://localhost:8080/"
        },
        "id": "Zdl3KLI9DNBh",
        "outputId": "bc553607-e726-400b-88a9-cfec13d4b7c3"
      },
      "source": [
        "from google.colab import drive\r\n",
        "drive.mount('/content/gdrive')"
      ],
      "execution_count": 2,
      "outputs": [
        {
          "output_type": "stream",
          "text": [
            "Mounted at /content/gdrive\n"
          ],
          "name": "stdout"
        }
      ]
    },
    {
      "cell_type": "code",
      "metadata": {
        "id": "p-KkdncsDNO6"
      },
      "source": [
        "TRAIN_PATH  = '/content/gdrive/My Drive/Colab Notebooks/X_train.csv'\r\n",
        "SUBMISSION_PATH =  '/content/gdrive/My Drive/Colab Notebooks/X_submission.csv'\r\n",
        "X_train_origin = pd.read_csv(TRAIN_PATH)\r\n",
        "X_submission = pd.read_csv(SUBMISSION_PATH)"
      ],
      "execution_count": 3,
      "outputs": []
    },
    {
      "cell_type": "code",
      "metadata": {
        "id": "p28Dd8KDxsdC"
      },
      "source": [
        ""
      ],
      "execution_count": 3,
      "outputs": []
    },
    {
      "cell_type": "code",
      "metadata": {
        "colab": {
          "base_uri": "https://localhost:8080/"
        },
        "id": "rRzj1AhoBwkR",
        "outputId": "391ea173-4aef-435a-b3c4-283954053769"
      },
      "source": [
        "X_temp = X_train_origin['Score'].to_list()\r\n",
        "counter = dict(collections.Counter(X_temp))\r\n",
        "print(counter)\r\n",
        "print(counter.values())\r\n",
        "total = sum(list(counter.values()))\r\n",
        "print(total)\r\n",
        "for i in counter:\r\n",
        "  counter[i] = counter[i] / total\r\n",
        "print(counter)"
      ],
      "execution_count": 4,
      "outputs": [
        {
          "output_type": "stream",
          "text": [
            "{4.0: 315587, 3.0: 165727, 5.0: 746520, 2.0: 84084, 1.0: 85615}\n",
            "dict_values([315587, 165727, 746520, 84084, 85615])\n",
            "1397533\n",
            "{4.0: 0.2258172078941964, 3.0: 0.11858539297462027, 5.0: 0.5341698550231014, 2.0: 0.06016602112436701, 1.0: 0.06126152298371487}\n"
          ],
          "name": "stdout"
        }
      ]
    },
    {
      "cell_type": "code",
      "metadata": {
        "id": "zOco_eYVVcWU"
      },
      "source": [
        ""
      ],
      "execution_count": 4,
      "outputs": []
    },
    {
      "cell_type": "code",
      "metadata": {
        "id": "yoIVj_ltDdYh"
      },
      "source": [
        "# further preprocess\r\n",
        "\r\n",
        "def get_max_wd(ws_array_normalized, words_list, s):\r\n",
        "  if type(s) == float: # nan\r\n",
        "    return 5\r\n",
        "  temp = np.array([0.0, 0.0, 0.0, 0.0, 0.0])\r\n",
        "  find = False # if any word is in the vocabulary\r\n",
        "  s = s.lower()\r\n",
        "  exclude = set(string.punctuation)\r\n",
        "  s = ''.join(ch for ch in s if ch not in exclude)\r\n",
        "  words = s.split(' ')\r\n",
        "  for word in words:\r\n",
        "    if word in words_list:\r\n",
        "      find = True\r\n",
        "      temp = temp + ws_array_normalized[words_list.index(word)]\r\n",
        "  if not find:\r\n",
        "    return 5\r\n",
        "  temp_list = temp.tolist()\r\n",
        "  return temp_list.index(max(temp_list)) + 1\r\n",
        "\r\n",
        "def get_avg_score(x, dic, most_score):\r\n",
        "  if x in dic:\r\n",
        "    return dic[x]\r\n",
        "  return most_score\r\n",
        "\r\n",
        "def preprocess(dataframe, array_normalized_summary, words_summary, array_normalized_text, words_text, film_dic, user_dic, most_score):\r\n",
        "  # fill nan in 'text' and 'Summary'\r\n",
        "  temp = dataframe.drop(columns = ['ProductId', 'UserId', 'Time'])\r\n",
        "  temp['Summary'] = temp['Summary'].fillna('')\r\n",
        "  temp['Text'] = temp['Text'].fillna('')\r\n",
        "\r\n",
        "  # transform user id and product id\r\n",
        "  temp['film_avg'] = dataframe['ProductId'].map(lambda x: get_avg_score(x, film_dic, most_score))\r\n",
        "  temp['user_avg'] = dataframe['UserId'].map(lambda x: get_avg_score(x, user_dic, most_score))\r\n",
        "  \r\n",
        "  # calculate the most likely score it would be with the average vector from word-document matrix\r\n",
        "  temp['S'] = dataframe['Summary'].map(lambda x: get_max_wd(array_normalized_summary, words_summary, x))\r\n",
        "  temp['T'] = dataframe['Summary'].map(lambda x: get_max_wd(array_normalized_text, words_text, x))\r\n",
        "\r\n",
        "  return temp"
      ],
      "execution_count": 24,
      "outputs": []
    },
    {
      "cell_type": "code",
      "metadata": {
        "colab": {
          "base_uri": "https://localhost:8080/"
        },
        "id": "3AOA7fDEDNmC",
        "outputId": "d7cb84fc-008a-4af6-ad0a-a8134ecb9bcc"
      },
      "source": [
        "film_scores_df = X_train_origin[['ProductId', 'Score']]\r\n",
        "film_df = film_scores_df.groupby('ProductId').mean()\r\n",
        "film_dic = film_df.to_dict()['Score']\r\n",
        "\r\n",
        "#print(film_dic) \r\n",
        "print(len(film_dic))"
      ],
      "execution_count": 6,
      "outputs": [
        {
          "output_type": "stream",
          "text": [
            "50050\n"
          ],
          "name": "stdout"
        }
      ]
    },
    {
      "cell_type": "code",
      "metadata": {
        "colab": {
          "base_uri": "https://localhost:8080/",
          "height": 35
        },
        "id": "HNyUOOoVu-Cq",
        "outputId": "2416387b-d920-43e9-9400-db323f592638"
      },
      "source": [
        "''' film_df_std = film_scores_df.groupby('ProductId').std()\r\n",
        "film_dic_std = film_df_std.to_dict()['Score']\r\n",
        "print(len(film_dic_std)) '''"
      ],
      "execution_count": 7,
      "outputs": [
        {
          "output_type": "execute_result",
          "data": {
            "application/vnd.google.colaboratory.intrinsic+json": {
              "type": "string"
            },
            "text/plain": [
              "\" film_df_std = film_scores_df.groupby('ProductId').std()\\nfilm_dic_std = film_df_std.to_dict()['Score']\\nprint(len(film_dic_std)) \""
            ]
          },
          "metadata": {
            "tags": []
          },
          "execution_count": 7
        }
      ]
    },
    {
      "cell_type": "code",
      "metadata": {
        "colab": {
          "base_uri": "https://localhost:8080/"
        },
        "id": "Tv6BgmhuDNyx",
        "outputId": "dab5012f-876a-46df-bab3-a36ffb3942d2"
      },
      "source": [
        "users_scores_df = X_train_origin[['UserId', 'Score']]\r\n",
        "user_df = users_scores_df.groupby('UserId').mean()\r\n",
        "user_dic = user_df.to_dict()['Score']\r\n",
        "\r\n",
        "#print(user_dic)\r\n",
        "print(len(user_dic))"
      ],
      "execution_count": 8,
      "outputs": [
        {
          "output_type": "stream",
          "text": [
            "123958\n"
          ],
          "name": "stdout"
        }
      ]
    },
    {
      "cell_type": "code",
      "metadata": {
        "colab": {
          "base_uri": "https://localhost:8080/",
          "height": 35
        },
        "id": "Y7EdravnvpDa",
        "outputId": "9be9d88f-9e25-4656-a7fe-46e8320b8178"
      },
      "source": [
        "''' user_df_std = users_scores_df.groupby('UserId').std()\r\n",
        "user_dic_std = user_df_std.to_dict()['Score']\r\n",
        "print(len(user_dic_std)) '''"
      ],
      "execution_count": 9,
      "outputs": [
        {
          "output_type": "execute_result",
          "data": {
            "application/vnd.google.colaboratory.intrinsic+json": {
              "type": "string"
            },
            "text/plain": [
              "\" user_df_std = users_scores_df.groupby('UserId').std()\\nuser_dic_std = user_df_std.to_dict()['Score']\\nprint(len(user_dic_std)) \""
            ]
          },
          "metadata": {
            "tags": []
          },
          "execution_count": 9
        }
      ]
    },
    {
      "cell_type": "code",
      "metadata": {
        "colab": {
          "base_uri": "https://localhost:8080/",
          "height": 35
        },
        "id": "83oJPdQUDp_Z",
        "outputId": "759ff75a-a438-4a12-a3ba-6b485c3bb452"
      },
      "source": [
        "# NLP\r\n",
        "''' all_summaries = X_train_origin['Summary'].fillna('').to_list()\r\n",
        "vectorizer = TfidfVectorizer(stop_words='english')\r\n",
        "words = vectorizer.fit_transform(all_summaries)\r\n",
        "word_list = vectorizer.get_feature_names()\r\n",
        "count_list = np.asarray(words.sum(axis=0))[0]\r\n",
        "dic = dict(zip(word_list, count_list))\r\n",
        "the_vocab = list(dict(sorted(dic.items(), key=lambda item: item[1], reverse=True)))[:200] # 200 most common words\r\n",
        "print(the_vocab) '''\r\n",
        "''' with open(\"/content/gdrive/My Drive/Colab Notebooks/data/summary200words.txt\", 'w') as f:\r\n",
        "  f.write(' '.join(the_vocab)) '''"
      ],
      "execution_count": 10,
      "outputs": [
        {
          "output_type": "execute_result",
          "data": {
            "application/vnd.google.colaboratory.intrinsic+json": {
              "type": "string"
            },
            "text/plain": [
              "' with open(\"/content/gdrive/My Drive/Colab Notebooks/data/summary200words.txt\", \\'w\\') as f:\\n  f.write(\\' \\'.join(the_vocab)) '"
            ]
          },
          "metadata": {
            "tags": []
          },
          "execution_count": 10
        }
      ]
    },
    {
      "cell_type": "code",
      "metadata": {
        "colab": {
          "base_uri": "https://localhost:8080/"
        },
        "id": "PGBq-SfODqKq",
        "outputId": "3122ba69-e646-4493-c237-3c5dd49f780b"
      },
      "source": [
        "with open(\"/content/gdrive/My Drive/Colab Notebooks/data/summary200words.txt\", 'r') as f:\r\n",
        "  the_vocab = f.read().split(' ')\r\n",
        "print(the_vocab)\r\n",
        "\r\n",
        "documents_summary = []\r\n",
        "documents_text = []\r\n",
        "for score in [1,2,3,4,5]:\r\n",
        "    df_temp = X_train_origin[X_train_origin['Score'] == score]\r\n",
        "    str_list_temp = df_temp['Summary'].to_list()\r\n",
        "    str_list_temp2 = df_temp['Text'].to_list()\r\n",
        "    str_list_temp = [s for s in str_list_temp if type(s) != float]\r\n",
        "    str_list_temp2 = [s for s in str_list_temp2 if type(s) != float]\r\n",
        "    document_summary = ' '.join(str_list_temp)\r\n",
        "    document_text = ' '.join(str_list_temp2)\r\n",
        "    documents_summary.append(document_summary)\r\n",
        "    documents_text.append(document_text)\r\n",
        "\r\n",
        "vectorizer2 = TfidfVectorizer(stop_words='english')\r\n",
        "words2 = vectorizer2.fit_transform(the_vocab)\r\n",
        "words_score = vectorizer2.transform(documents_summary)\r\n",
        "ws_array = np.array(words_score.toarray().T)\r\n",
        "#print(ws_array)\r\n",
        "\r\n",
        "row_sums = ws_array.sum(axis=1)\r\n",
        "ws_array_normalized = ws_array / row_sums[:, np.newaxis]\r\n",
        "#print(ws_array_normalized)"
      ],
      "execution_count": 11,
      "outputs": [
        {
          "output_type": "stream",
          "text": [
            "['movie', 'great', 'good', 'love', 'best', 'film', 'classic', 'fun', 'dvd', 'excellent', 'funny', 'series', 'stars', 'better', 'story', 'bad', 'time', 'awesome', 'season', 'movies', 'like', 'just', 'wonderful', 'entertaining', 'loved', 'watch', 'favorite', 'action', 'really', 'family', 'comedy', 'worth', 'ok', 'review', 'interesting', 'don', 'amazing', 'horror', 'fantastic', 'old', 'ray', 'blu', 'tv', 'nice', 'cute', 'pretty', 'wow', 'enjoyable', 'beautiful', 'collection', 'little', 'flick', 'original', 'star', 'hilarious', 'new', 'boring', 'expected', 'life', 'true', 'set', 'man', 'perfect', 'way', 'christmas', 'okay', 'films', 'buy', 'masterpiece', 'thriller', 'real', 'drama', 'version', 'brilliant', 'disappointing', 'fan', 'seen', 'quot', 'kids', 'finally', 'war', 'book', 'acting', 'quality', 'entertainment', 'watching', 'liked', 'worst', 've', 'fans', 'long', 'big', 'greatest', 'workout', 'outstanding', 'sequel', 'western', 'say', 'fi', 'video', 'sci', 'different', 'cool', 'gift', 'dark', 'thought', 'decent', 'history', 'scary', 'waste', 'end', 'disney', 'make', 'music', 'years', 'world', 'did', 'terrible', 'enjoyed', 'special', 'sweet', 'want', 'day', 'surprisingly', 'cast', 'superb', 'know', 'money', 'look', 'price', 'oh', 'complete', 'ending', 'does', 'right', 'people', 'think', 'horrible', 'got', 'plot', 'poor', 'hard', 'heart', 'year', 'awful', 'absolutely', 'romantic', 'gets', 'disappointed', 'yes', 'release', 'didn', 'quite', 'll', 'adventure', 'slow', 'work', 'far', 'favorites', 'anime', 'tale', 'documentary', 'gem', 'sad', 'epic', 'solid', 'american', 'super', 'edition', 'performance', 'powerful', 'stuff', 'average', 'second', 'bit', 'remake', 'night', 'shows', 'kind', 'surprise', 'bond', 'wait', 'lost', 'simply', 'fine', 'need', 'john', 'terrific', 'come', 'mystery', 'doesn', 'live', 'makes', 'lot', 'let', 'moving', 'high', 'times', 'stupid', 'happy']\n"
          ],
          "name": "stdout"
        }
      ]
    },
    {
      "cell_type": "code",
      "metadata": {
        "colab": {
          "base_uri": "https://localhost:8080/",
          "height": 35
        },
        "id": "9DoPDiIaDqWh",
        "outputId": "ab5d1ede-d91a-4c7b-e152-b001ce8fc5f9"
      },
      "source": [
        "# do the same on text\r\n",
        "''' all_texts = X_train_origin['Text'].fillna('').to_list()\r\n",
        "vectorizer3 = TfidfVectorizer(stop_words='english')\r\n",
        "words3 = vectorizer3.fit_transform(all_texts)\r\n",
        "word_list2 = vectorizer3.get_feature_names()\r\n",
        "count_list2 = np.asarray(words3.sum(axis=0))[0]\r\n",
        "dic2 = dict(zip(word_list2, count_list2))\r\n",
        "the_vocab2 = list(dict(sorted(dic2.items(), key=lambda item: item[1], reverse=True)))[:200] # 200 most common words\r\n",
        "print(the_vocab2) '''\r\n",
        "''' with open(\"/content/gdrive/My Drive/Colab Notebooks/data/text200words.txt\", 'w') as f:\r\n",
        "  f.write(' '.join(the_vocab2)) '''"
      ],
      "execution_count": 12,
      "outputs": [
        {
          "output_type": "execute_result",
          "data": {
            "application/vnd.google.colaboratory.intrinsic+json": {
              "type": "string"
            },
            "text/plain": [
              "' with open(\"/content/gdrive/My Drive/Colab Notebooks/data/text200words.txt\", \\'w\\') as f:\\n  f.write(\\' \\'.join(the_vocab2)) '"
            ]
          },
          "metadata": {
            "tags": []
          },
          "execution_count": 12
        }
      ]
    },
    {
      "cell_type": "code",
      "metadata": {
        "colab": {
          "base_uri": "https://localhost:8080/"
        },
        "id": "tY6X2oJUDqhy",
        "outputId": "02e8035f-bfd6-4a33-a56f-e1b8378002c1"
      },
      "source": [
        "with open(\"/content/gdrive/My Drive/Colab Notebooks/data/text200words.txt\", 'r') as f:\r\n",
        "  the_vocab2 = f.read().split(' ')\r\n",
        "print(the_vocab2)\r\n",
        "\r\n",
        "vectorizer4 = TfidfVectorizer(stop_words='english')\r\n",
        "words4 = vectorizer4.fit_transform(the_vocab2)\r\n",
        "words_score2 = vectorizer4.transform(documents_text)\r\n",
        "ws_array2 = np.array(words_score2.toarray().T)\r\n",
        "\r\n",
        "row_sums2 = ws_array2.sum(axis=1)\r\n",
        "ws_array_normalized2 = ws_array2 / row_sums2[:, np.newaxis]"
      ],
      "execution_count": 13,
      "outputs": [
        {
          "output_type": "stream",
          "text": [
            "['movie', 'film', 'great', 'good', 'like', 'just', 'love', 'story', 'watch', 'dvd', 'really', 'movies', 'time', 'series', 'best', '34', 'season', 'quot', 'don', 'watching', 'better', 'did', 'funny', 'think', 'seen', 'acting', 'way', 'people', 'characters', 'action', 'little', 'make', 'fun', 'bad', 'family', 'loved', 'know', 'life', 'enjoyed', 'old', 'enjoy', 'recommend', 'films', 'watched', 'worth', 'say', 'character', 'plot', 've', 'does', 'new', 'end', 'years', 'actors', 'set', 'fan', 'didn', 'excellent', 'lot', 'want', 'times', 'scenes', 'cast', 'tv', 'man', 'original', 'thought', 'buy', 'got', 'classic', 'real', 'version', 'interesting', 'saw', 'going', 'collection', 'makes', 'favorite', 'music', 'pretty', 'long', 'quality', 'shows', 'wonderful', 'kids', 'special', 'liked', 'stars', 'bit', 'book', 'episodes', 'look', 'll', 'work', 'comedy', 'world', 'ray', 'thing', 'horror', 'things', 'star', 'young', 'big', 'bought', 'entertaining', 'right', 'scene', 'ending', 'video', 'feel', 'episode', 'come', 'day', 'job', 'actually', 'doesn', 'quite', 'nice', 'different', 'sure', 'line', 'true', 'blu', 'effects', 'hard', 'highly', 'year', 'far', 'looking', 'came', 'especially', 'performance', 'definitely', 'kind', 'price', 'role', 'gets', 'amazing', 'probably', 'perfect', 'wasn', 'war', 'money', 'seeing', 'beautiful', 'played', 'isn', 'director', 'away', 'sound', 'amazon', 'second', 'picture', 'need', 'fans', 'awesome', 'humor', 'john', 'guy', 'said', 'read', 'children', 'play', 'high', 'seasons', 'happy', 'glad', 'fact', 'actor', 'having', 'christmas', 'minutes', 'girl', 'wanted', 'wait', 'won', 'screen', 'plays', 'making', 'comes', 'course', 'believe', 'wife', 'wish', 'remember', 'night', 'release', 'hope', 'overall', 'let', 'getting', 'stories', 'history', 'maybe', 'point', 'home', 'disc', 'enjoyable', 'used', 'friends']\n"
          ],
          "name": "stdout"
        }
      ]
    },
    {
      "cell_type": "code",
      "metadata": {
        "id": "z-ypiVwKr_KG"
      },
      "source": [
        ""
      ],
      "execution_count": 13,
      "outputs": []
    },
    {
      "cell_type": "code",
      "metadata": {
        "id": "UeUwlV-lrbRf"
      },
      "source": [
        ""
      ],
      "execution_count": 13,
      "outputs": []
    },
    {
      "cell_type": "code",
      "metadata": {
        "id": "pDdqNO60Dqsi"
      },
      "source": [
        "X_train_origin_processed = preprocess(X_train_origin, ws_array_normalized, the_vocab, ws_array_normalized2, the_vocab2, film_dic, user_dic, 5)"
      ],
      "execution_count": 25,
      "outputs": []
    },
    {
      "cell_type": "code",
      "metadata": {
        "id": "XFK8St38Dq4h"
      },
      "source": [
        "X_sub = preprocess(X_submission, ws_array_normalized, the_vocab, ws_array_normalized2, the_vocab2, film_dic, user_dic, 5).drop(['Score'], axis=1)"
      ],
      "execution_count": 26,
      "outputs": []
    },
    {
      "cell_type": "code",
      "metadata": {
        "id": "cY5lG28WGcRj"
      },
      "source": [
        "X_train_origin_processed.to_csv(\"/content/gdrive/My Drive/Colab Notebooks/data/X_train_origin_processed_NLP.csv\", index=False)\r\n",
        "X_sub.to_csv(\"/content/gdrive/My Drive/Colab Notebooks/data/X_sub_NLP.csv\", index=False)"
      ],
      "execution_count": 27,
      "outputs": []
    },
    {
      "cell_type": "code",
      "metadata": {
        "id": "bu4NI0dKGcch"
      },
      "source": [
        ""
      ],
      "execution_count": null,
      "outputs": []
    },
    {
      "cell_type": "code",
      "metadata": {
        "id": "JoN5_tOjOvHu"
      },
      "source": [
        ""
      ],
      "execution_count": null,
      "outputs": []
    },
    {
      "cell_type": "code",
      "metadata": {
        "colab": {
          "base_uri": "https://localhost:8080/",
          "height": 979
        },
        "id": "1OBJhBo6Ou9h",
        "outputId": "b772fbd0-04bf-445e-c3a7-65b49206ae8a"
      },
      "source": [
        "X_train_origin_processed.head(30)"
      ],
      "execution_count": 28,
      "outputs": [
        {
          "output_type": "execute_result",
          "data": {
            "text/html": [
              "<div>\n",
              "<style scoped>\n",
              "    .dataframe tbody tr th:only-of-type {\n",
              "        vertical-align: middle;\n",
              "    }\n",
              "\n",
              "    .dataframe tbody tr th {\n",
              "        vertical-align: top;\n",
              "    }\n",
              "\n",
              "    .dataframe thead th {\n",
              "        text-align: right;\n",
              "    }\n",
              "</style>\n",
              "<table border=\"1\" class=\"dataframe\">\n",
              "  <thead>\n",
              "    <tr style=\"text-align: right;\">\n",
              "      <th></th>\n",
              "      <th>Id</th>\n",
              "      <th>HelpfulnessNumerator</th>\n",
              "      <th>HelpfulnessDenominator</th>\n",
              "      <th>Score</th>\n",
              "      <th>Summary</th>\n",
              "      <th>Text</th>\n",
              "      <th>film_avg</th>\n",
              "      <th>user_avg</th>\n",
              "      <th>S</th>\n",
              "      <th>T</th>\n",
              "    </tr>\n",
              "  </thead>\n",
              "  <tbody>\n",
              "    <tr>\n",
              "      <th>0</th>\n",
              "      <td>0</td>\n",
              "      <td>0</td>\n",
              "      <td>0</td>\n",
              "      <td>4.0</td>\n",
              "      <td>good version of a classic</td>\n",
              "      <td>This is a charming version of the classic Dick...</td>\n",
              "      <td>4.483871</td>\n",
              "      <td>4.333333</td>\n",
              "      <td>4</td>\n",
              "      <td>2</td>\n",
              "    </tr>\n",
              "    <tr>\n",
              "      <th>1</th>\n",
              "      <td>1</td>\n",
              "      <td>0</td>\n",
              "      <td>0</td>\n",
              "      <td>3.0</td>\n",
              "      <td>Good but not as moving</td>\n",
              "      <td>It was good but not as emotionally moving as t...</td>\n",
              "      <td>4.483871</td>\n",
              "      <td>3.600000</td>\n",
              "      <td>3</td>\n",
              "      <td>2</td>\n",
              "    </tr>\n",
              "    <tr>\n",
              "      <th>2</th>\n",
              "      <td>2</td>\n",
              "      <td>0</td>\n",
              "      <td>0</td>\n",
              "      <td>3.0</td>\n",
              "      <td>Winkler's Performance was ok at best!</td>\n",
              "      <td>Don't get me wrong, Winkler is a wonderful cha...</td>\n",
              "      <td>4.483871</td>\n",
              "      <td>3.800000</td>\n",
              "      <td>5</td>\n",
              "      <td>2</td>\n",
              "    </tr>\n",
              "    <tr>\n",
              "      <th>3</th>\n",
              "      <td>3</td>\n",
              "      <td>0</td>\n",
              "      <td>0</td>\n",
              "      <td>5.0</td>\n",
              "      <td>It's an enjoyable twist on the classic story</td>\n",
              "      <td>Henry Winkler is very good in this twist on th...</td>\n",
              "      <td>4.483871</td>\n",
              "      <td>3.600000</td>\n",
              "      <td>2</td>\n",
              "      <td>5</td>\n",
              "    </tr>\n",
              "    <tr>\n",
              "      <th>4</th>\n",
              "      <td>4</td>\n",
              "      <td>0</td>\n",
              "      <td>0</td>\n",
              "      <td>4.0</td>\n",
              "      <td>Best Scrooge yet</td>\n",
              "      <td>This is one of the best Scrooge movies out.  H...</td>\n",
              "      <td>4.483871</td>\n",
              "      <td>4.176471</td>\n",
              "      <td>5</td>\n",
              "      <td>3</td>\n",
              "    </tr>\n",
              "    <tr>\n",
              "      <th>5</th>\n",
              "      <td>6</td>\n",
              "      <td>1</td>\n",
              "      <td>1</td>\n",
              "      <td>5.0</td>\n",
              "      <td>A MUST-HAVE FOR ANY VIDEO CHRISTMAS COLLECTION!!</td>\n",
              "      <td>This is the American adaptation of the Charles...</td>\n",
              "      <td>4.483871</td>\n",
              "      <td>4.272727</td>\n",
              "      <td>4</td>\n",
              "      <td>4</td>\n",
              "    </tr>\n",
              "    <tr>\n",
              "      <th>6</th>\n",
              "      <td>7</td>\n",
              "      <td>0</td>\n",
              "      <td>0</td>\n",
              "      <td>5.0</td>\n",
              "      <td>An American Christmas Carol</td>\n",
              "      <td>Glad that this american classic came out on dv...</td>\n",
              "      <td>4.483871</td>\n",
              "      <td>4.333333</td>\n",
              "      <td>4</td>\n",
              "      <td>3</td>\n",
              "    </tr>\n",
              "    <tr>\n",
              "      <th>7</th>\n",
              "      <td>8</td>\n",
              "      <td>0</td>\n",
              "      <td>0</td>\n",
              "      <td>5.0</td>\n",
              "      <td>an american christmas carol</td>\n",
              "      <td>A good Christmas carol dhenry winkler one duri...</td>\n",
              "      <td>4.483871</td>\n",
              "      <td>4.430769</td>\n",
              "      <td>4</td>\n",
              "      <td>3</td>\n",
              "    </tr>\n",
              "    <tr>\n",
              "      <th>8</th>\n",
              "      <td>9</td>\n",
              "      <td>0</td>\n",
              "      <td>0</td>\n",
              "      <td>5.0</td>\n",
              "      <td>Fantastic!</td>\n",
              "      <td>How a bitter old man comes to know the true me...</td>\n",
              "      <td>4.483871</td>\n",
              "      <td>5.000000</td>\n",
              "      <td>2</td>\n",
              "      <td>5</td>\n",
              "    </tr>\n",
              "    <tr>\n",
              "      <th>9</th>\n",
              "      <td>10</td>\n",
              "      <td>0</td>\n",
              "      <td>0</td>\n",
              "      <td>5.0</td>\n",
              "      <td>Outstanding Concept, and Performances</td>\n",
              "      <td>The small historic Canadian town of Elora, wit...</td>\n",
              "      <td>4.483871</td>\n",
              "      <td>4.750000</td>\n",
              "      <td>2</td>\n",
              "      <td>5</td>\n",
              "    </tr>\n",
              "    <tr>\n",
              "      <th>10</th>\n",
              "      <td>12</td>\n",
              "      <td>0</td>\n",
              "      <td>1</td>\n",
              "      <td>3.0</td>\n",
              "      <td>Christmas</td>\n",
              "      <td>My wife told me of this movie in which Henry W...</td>\n",
              "      <td>4.483871</td>\n",
              "      <td>4.250000</td>\n",
              "      <td>2</td>\n",
              "      <td>3</td>\n",
              "    </tr>\n",
              "    <tr>\n",
              "      <th>11</th>\n",
              "      <td>13</td>\n",
              "      <td>0</td>\n",
              "      <td>0</td>\n",
              "      <td>5.0</td>\n",
              "      <td>An American Christmas Carol</td>\n",
              "      <td>The first time I saw &amp;#34;An American Christma...</td>\n",
              "      <td>4.483871</td>\n",
              "      <td>3.876380</td>\n",
              "      <td>4</td>\n",
              "      <td>3</td>\n",
              "    </tr>\n",
              "    <tr>\n",
              "      <th>12</th>\n",
              "      <td>14</td>\n",
              "      <td>1</td>\n",
              "      <td>1</td>\n",
              "      <td>4.0</td>\n",
              "      <td>It's a Christmas Carol</td>\n",
              "      <td>Set in the USA about the time of the depressio...</td>\n",
              "      <td>4.483871</td>\n",
              "      <td>4.454545</td>\n",
              "      <td>2</td>\n",
              "      <td>3</td>\n",
              "    </tr>\n",
              "    <tr>\n",
              "      <th>13</th>\n",
              "      <td>15</td>\n",
              "      <td>0</td>\n",
              "      <td>0</td>\n",
              "      <td>5.0</td>\n",
              "      <td>A FAMILIAR CLASSIC IN A DIFFERENT WAY</td>\n",
              "      <td>I really enjoy all the &amp;#34;Christmas Carol-Sc...</td>\n",
              "      <td>4.483871</td>\n",
              "      <td>5.000000</td>\n",
              "      <td>4</td>\n",
              "      <td>5</td>\n",
              "    </tr>\n",
              "    <tr>\n",
              "      <th>14</th>\n",
              "      <td>16</td>\n",
              "      <td>0</td>\n",
              "      <td>0</td>\n",
              "      <td>5.0</td>\n",
              "      <td>Great Christmas movie for the family</td>\n",
              "      <td>This is a wonderful movie. It stay faithful to...</td>\n",
              "      <td>4.483871</td>\n",
              "      <td>5.000000</td>\n",
              "      <td>1</td>\n",
              "      <td>4</td>\n",
              "    </tr>\n",
              "    <tr>\n",
              "      <th>15</th>\n",
              "      <td>18</td>\n",
              "      <td>0</td>\n",
              "      <td>0</td>\n",
              "      <td>5.0</td>\n",
              "      <td>An American Christmas Carol</td>\n",
              "      <td>Henry Winkler played a great part as Scrooge. ...</td>\n",
              "      <td>4.483871</td>\n",
              "      <td>5.000000</td>\n",
              "      <td>4</td>\n",
              "      <td>3</td>\n",
              "    </tr>\n",
              "    <tr>\n",
              "      <th>16</th>\n",
              "      <td>19</td>\n",
              "      <td>0</td>\n",
              "      <td>1</td>\n",
              "      <td>5.0</td>\n",
              "      <td>One of my favorite Christmas movies!</td>\n",
              "      <td>Ignore some of the more negative reviews on he...</td>\n",
              "      <td>4.483871</td>\n",
              "      <td>4.285714</td>\n",
              "      <td>2</td>\n",
              "      <td>5</td>\n",
              "    </tr>\n",
              "    <tr>\n",
              "      <th>17</th>\n",
              "      <td>20</td>\n",
              "      <td>0</td>\n",
              "      <td>2</td>\n",
              "      <td>2.0</td>\n",
              "      <td>An American Christmas Carol</td>\n",
              "      <td>We began watching this video, but stopped it a...</td>\n",
              "      <td>4.483871</td>\n",
              "      <td>4.000000</td>\n",
              "      <td>4</td>\n",
              "      <td>3</td>\n",
              "    </tr>\n",
              "    <tr>\n",
              "      <th>18</th>\n",
              "      <td>21</td>\n",
              "      <td>0</td>\n",
              "      <td>0</td>\n",
              "      <td>5.0</td>\n",
              "      <td>The best \"Christmas Carol\" story</td>\n",
              "      <td>It seems like just about everybody has made a ...</td>\n",
              "      <td>4.483871</td>\n",
              "      <td>4.111111</td>\n",
              "      <td>5</td>\n",
              "      <td>1</td>\n",
              "    </tr>\n",
              "    <tr>\n",
              "      <th>19</th>\n",
              "      <td>22</td>\n",
              "      <td>2</td>\n",
              "      <td>3</td>\n",
              "      <td>5.0</td>\n",
              "      <td>Change can be good</td>\n",
              "      <td>I must confess to being a bit of a coinsure of...</td>\n",
              "      <td>4.483871</td>\n",
              "      <td>5.000000</td>\n",
              "      <td>4</td>\n",
              "      <td>2</td>\n",
              "    </tr>\n",
              "    <tr>\n",
              "      <th>20</th>\n",
              "      <td>23</td>\n",
              "      <td>0</td>\n",
              "      <td>0</td>\n",
              "      <td>5.0</td>\n",
              "      <td>A Worthy Version of A Christmas Carol</td>\n",
              "      <td>This is Charles Dickens' classic Christmas Car...</td>\n",
              "      <td>4.483871</td>\n",
              "      <td>3.500000</td>\n",
              "      <td>2</td>\n",
              "      <td>3</td>\n",
              "    </tr>\n",
              "    <tr>\n",
              "      <th>21</th>\n",
              "      <td>24</td>\n",
              "      <td>0</td>\n",
              "      <td>0</td>\n",
              "      <td>5.0</td>\n",
              "      <td>It's about time...</td>\n",
              "      <td>I can't believe how long it took &amp;#34;them&amp;#34...</td>\n",
              "      <td>4.483871</td>\n",
              "      <td>4.600000</td>\n",
              "      <td>2</td>\n",
              "      <td>1</td>\n",
              "    </tr>\n",
              "    <tr>\n",
              "      <th>22</th>\n",
              "      <td>25</td>\n",
              "      <td>0</td>\n",
              "      <td>0</td>\n",
              "      <td>5.0</td>\n",
              "      <td>Fonzie as Scrooge</td>\n",
              "      <td>Henry Winkler is a fine actor and this version...</td>\n",
              "      <td>4.483871</td>\n",
              "      <td>4.311111</td>\n",
              "      <td>5</td>\n",
              "      <td>5</td>\n",
              "    </tr>\n",
              "    <tr>\n",
              "      <th>23</th>\n",
              "      <td>26</td>\n",
              "      <td>0</td>\n",
              "      <td>0</td>\n",
              "      <td>4.0</td>\n",
              "      <td>Brilliant Adaptation</td>\n",
              "      <td>A brilliant adaptation of Dickson's classic se...</td>\n",
              "      <td>4.483871</td>\n",
              "      <td>4.000000</td>\n",
              "      <td>5</td>\n",
              "      <td>5</td>\n",
              "    </tr>\n",
              "    <tr>\n",
              "      <th>24</th>\n",
              "      <td>27</td>\n",
              "      <td>0</td>\n",
              "      <td>0</td>\n",
              "      <td>5.0</td>\n",
              "      <td>Henry Winkler as a modern-day Scrooge</td>\n",
              "      <td>A great acting job by Henry Winkler. I saw thi...</td>\n",
              "      <td>4.483871</td>\n",
              "      <td>5.000000</td>\n",
              "      <td>5</td>\n",
              "      <td>5</td>\n",
              "    </tr>\n",
              "    <tr>\n",
              "      <th>25</th>\n",
              "      <td>28</td>\n",
              "      <td>7</td>\n",
              "      <td>9</td>\n",
              "      <td>5.0</td>\n",
              "      <td>Another Great Christmas Classic</td>\n",
              "      <td>Henry Winkler stars in this remake of the clas...</td>\n",
              "      <td>4.483871</td>\n",
              "      <td>4.590909</td>\n",
              "      <td>2</td>\n",
              "      <td>4</td>\n",
              "    </tr>\n",
              "    <tr>\n",
              "      <th>26</th>\n",
              "      <td>29</td>\n",
              "      <td>0</td>\n",
              "      <td>0</td>\n",
              "      <td>4.0</td>\n",
              "      <td>Christmas carol redone</td>\n",
              "      <td>The title says it all - this is a Christmas ca...</td>\n",
              "      <td>4.483871</td>\n",
              "      <td>4.666667</td>\n",
              "      <td>2</td>\n",
              "      <td>3</td>\n",
              "    </tr>\n",
              "    <tr>\n",
              "      <th>27</th>\n",
              "      <td>30</td>\n",
              "      <td>0</td>\n",
              "      <td>0</td>\n",
              "      <td>5.0</td>\n",
              "      <td>Christmas Scrooge</td>\n",
              "      <td>Henry Winkler does an amazing job as scrooge i...</td>\n",
              "      <td>4.483871</td>\n",
              "      <td>5.000000</td>\n",
              "      <td>2</td>\n",
              "      <td>3</td>\n",
              "    </tr>\n",
              "    <tr>\n",
              "      <th>28</th>\n",
              "      <td>31</td>\n",
              "      <td>0</td>\n",
              "      <td>0</td>\n",
              "      <td>4.0</td>\n",
              "      <td>New take on an old tale</td>\n",
              "      <td>An updated version of A Christmas Carol that d...</td>\n",
              "      <td>4.483871</td>\n",
              "      <td>4.333333</td>\n",
              "      <td>2</td>\n",
              "      <td>4</td>\n",
              "    </tr>\n",
              "    <tr>\n",
              "      <th>29</th>\n",
              "      <td>32</td>\n",
              "      <td>0</td>\n",
              "      <td>0</td>\n",
              "      <td>5.0</td>\n",
              "      <td>Another side of Henry</td>\n",
              "      <td>Most of us remember Henry Winkler in the role ...</td>\n",
              "      <td>4.483871</td>\n",
              "      <td>4.923077</td>\n",
              "      <td>5</td>\n",
              "      <td>5</td>\n",
              "    </tr>\n",
              "  </tbody>\n",
              "</table>\n",
              "</div>"
            ],
            "text/plain": [
              "    Id  HelpfulnessNumerator  HelpfulnessDenominator  ...  user_avg  S  T\n",
              "0    0                     0                       0  ...  4.333333  4  2\n",
              "1    1                     0                       0  ...  3.600000  3  2\n",
              "2    2                     0                       0  ...  3.800000  5  2\n",
              "3    3                     0                       0  ...  3.600000  2  5\n",
              "4    4                     0                       0  ...  4.176471  5  3\n",
              "5    6                     1                       1  ...  4.272727  4  4\n",
              "6    7                     0                       0  ...  4.333333  4  3\n",
              "7    8                     0                       0  ...  4.430769  4  3\n",
              "8    9                     0                       0  ...  5.000000  2  5\n",
              "9   10                     0                       0  ...  4.750000  2  5\n",
              "10  12                     0                       1  ...  4.250000  2  3\n",
              "11  13                     0                       0  ...  3.876380  4  3\n",
              "12  14                     1                       1  ...  4.454545  2  3\n",
              "13  15                     0                       0  ...  5.000000  4  5\n",
              "14  16                     0                       0  ...  5.000000  1  4\n",
              "15  18                     0                       0  ...  5.000000  4  3\n",
              "16  19                     0                       1  ...  4.285714  2  5\n",
              "17  20                     0                       2  ...  4.000000  4  3\n",
              "18  21                     0                       0  ...  4.111111  5  1\n",
              "19  22                     2                       3  ...  5.000000  4  2\n",
              "20  23                     0                       0  ...  3.500000  2  3\n",
              "21  24                     0                       0  ...  4.600000  2  1\n",
              "22  25                     0                       0  ...  4.311111  5  5\n",
              "23  26                     0                       0  ...  4.000000  5  5\n",
              "24  27                     0                       0  ...  5.000000  5  5\n",
              "25  28                     7                       9  ...  4.590909  2  4\n",
              "26  29                     0                       0  ...  4.666667  2  3\n",
              "27  30                     0                       0  ...  5.000000  2  3\n",
              "28  31                     0                       0  ...  4.333333  2  4\n",
              "29  32                     0                       0  ...  4.923077  5  5\n",
              "\n",
              "[30 rows x 10 columns]"
            ]
          },
          "metadata": {
            "tags": []
          },
          "execution_count": 28
        }
      ]
    },
    {
      "cell_type": "code",
      "metadata": {
        "id": "G92RCW8BOu0K"
      },
      "source": [
        ""
      ],
      "execution_count": null,
      "outputs": []
    }
  ]
}