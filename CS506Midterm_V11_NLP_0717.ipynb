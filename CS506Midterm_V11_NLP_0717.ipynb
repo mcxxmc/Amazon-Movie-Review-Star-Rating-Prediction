{
  "nbformat": 4,
  "nbformat_minor": 0,
  "metadata": {
    "colab": {
      "name": "CS506Midterm_V11_NLP_074.ipynb",
      "provenance": [],
      "collapsed_sections": []
    },
    "kernelspec": {
      "display_name": "Python 3",
      "name": "python3"
    }
  },
  "cells": [
    {
      "cell_type": "code",
      "metadata": {
        "id": "si-HdGs9wZek"
      },
      "source": [
        "import pandas as pd\r\n",
        "import seaborn as sns\r\n",
        "import matplotlib.pyplot as plt\r\n",
        "import numpy as np\r\n",
        "\r\n",
        "from sklearn.model_selection import train_test_split\r\n",
        "from sklearn.metrics import mean_squared_error, confusion_matrix\r\n",
        "import scipy.sparse\r\n",
        "from scipy.sparse import hstack, csr_matrix \r\n",
        "from sklearn.neighbors import KNeighborsClassifier\r\n",
        "from sklearn.naive_bayes import GaussianNB, MultinomialNB\r\n",
        "from sklearn.feature_extraction.text import CountVectorizer, TfidfVectorizer\r\n",
        "from sklearn.svm import SVC, LinearSVC\r\n",
        "from sklearn.linear_model import LogisticRegression, LinearRegression # # class = 'balanced to lower the skewness of score 5\r\n",
        "from sklearn.tree import DecisionTreeClassifier\r\n",
        "from sklearn.kernel_approximation import Nystroem\r\n",
        "from sklearn.decomposition import TruncatedSVD\r\n",
        "\r\n",
        "import string\r\n",
        "import collections"
      ],
      "execution_count": 2,
      "outputs": []
    },
    {
      "cell_type": "code",
      "metadata": {
        "colab": {
          "base_uri": "https://localhost:8080/"
        },
        "id": "XqYnJJpIwhUQ",
        "outputId": "f7c8a536-9134-4112-f9f9-c1a6e086550b"
      },
      "source": [
        "from google.colab import drive\r\n",
        "drive.mount('/content/gdrive')"
      ],
      "execution_count": 3,
      "outputs": [
        {
          "output_type": "stream",
          "text": [
            "Mounted at /content/gdrive\n"
          ],
          "name": "stdout"
        }
      ]
    },
    {
      "cell_type": "code",
      "metadata": {
        "id": "vnsWWFpM8YgE"
      },
      "source": [
        "X_train_origin_processed = pd.read_csv(\"/content/gdrive/My Drive/Colab Notebooks/data/X_train_origin_processed_NLP.csv\")"
      ],
      "execution_count": 4,
      "outputs": []
    },
    {
      "cell_type": "code",
      "metadata": {
        "id": "SvGkMhQpDUBM"
      },
      "source": [
        "X_sub = pd.read_csv(\"/content/gdrive/My Drive/Colab Notebooks/data/X_sub_NLP.csv\")"
      ],
      "execution_count": 5,
      "outputs": []
    },
    {
      "cell_type": "code",
      "metadata": {
        "id": "1S-hJL4KbPzj"
      },
      "source": [
        "X_train_origin_processed = X_train_origin_processed.drop(columns = ['Summary'])\r\n",
        "X_sub = X_sub.drop(columns = ['Summary'])"
      ],
      "execution_count": 6,
      "outputs": []
    },
    {
      "cell_type": "code",
      "metadata": {
        "id": "4o9sDULi19tK"
      },
      "source": [
        ""
      ],
      "execution_count": 6,
      "outputs": []
    },
    {
      "cell_type": "code",
      "metadata": {
        "id": "2HP1uWCS09b6"
      },
      "source": [
        ""
      ],
      "execution_count": 6,
      "outputs": []
    },
    {
      "cell_type": "code",
      "metadata": {
        "id": "tUhk1aH2lPSe"
      },
      "source": [
        "def process_train(dataframe):\r\n",
        "  temp1 = dataframe['Text'].astype(str)\r\n",
        "  vectorizer = TfidfVectorizer(stop_words='english', lowercase=True)\r\n",
        "  temp_tfidf = vectorizer.fit_transform(temp1)\r\n",
        "  print(temp_tfidf.shape)\r\n",
        "  svd = TruncatedSVD(n_components=100, random_state=0) # reduce dimensionality\r\n",
        "  temp_tfidf2 = svd.fit_transform(temp_tfidf)\r\n",
        "  print(temp_tfidf2.shape)\r\n",
        "  temp_tfidf3 = csr_matrix(temp_tfidf2) # convert back to sparse matix\r\n",
        "  temp2 = dataframe[['HelpfulnessNumerator',\t'HelpfulnessDenominator',\t'film_avg',\t'user_avg',\t'S',\t'T']]\r\n",
        "  temp3 = hstack((temp2, temp_tfidf3)) # combine it with the rest\r\n",
        "  temp4 = csr_matrix(temp3) # transfer into a sparse matrix\r\n",
        "  print(temp4.shape)\r\n",
        "  return temp4, vectorizer, svd\r\n",
        "\r\n",
        "def process_sub(dataframe, vectorizer, svd):\r\n",
        "  temp1 = dataframe['Text'].astype(str)\r\n",
        "  temp_tfidf = vectorizer.transform(temp1)\r\n",
        "  print(temp_tfidf.shape)\r\n",
        "  temp_tfidf2 = svd.transform(temp_tfidf) # reduce dimensionality\r\n",
        "  temp_tfidf3 = csr_matrix(temp_tfidf2) # convert back to sparse matix\r\n",
        "  temp2 = dataframe[['HelpfulnessNumerator',\t'HelpfulnessDenominator',\t'film_avg',\t'user_avg',\t'S',\t'T']]\r\n",
        "  temp3 = hstack((temp2, temp_tfidf3)) # combine it with the rest\r\n",
        "  temp4 = csr_matrix(temp3) # transfer into a sparse matrix\r\n",
        "  print(temp4.shape)\r\n",
        "  return temp4\r\n"
      ],
      "execution_count": 7,
      "outputs": []
    },
    {
      "cell_type": "code",
      "metadata": {
        "colab": {
          "base_uri": "https://localhost:8080/",
          "height": 35
        },
        "id": "j4IBoyHVm26u",
        "outputId": "0549cd72-bced-4406-d4f3-2a18bc8e3c64"
      },
      "source": [
        "''' X_train_new, vec, svd = process_train(X_train_origin_processed) '''"
      ],
      "execution_count": 8,
      "outputs": [
        {
          "output_type": "execute_result",
          "data": {
            "application/vnd.google.colaboratory.intrinsic+json": {
              "type": "string"
            },
            "text/plain": [
              "' X_train_new, vec, svd = process_train(X_train_origin_processed) '"
            ]
          },
          "metadata": {
            "tags": []
          },
          "execution_count": 8
        }
      ]
    },
    {
      "cell_type": "code",
      "metadata": {
        "colab": {
          "base_uri": "https://localhost:8080/",
          "height": 35
        },
        "id": "-glEpdGamLyG",
        "outputId": "73dadf0e-81e0-4e42-c1e8-6729a475af60"
      },
      "source": [
        "''' X_sub_new = process_sub(X_sub, vec, svd) '''"
      ],
      "execution_count": 9,
      "outputs": [
        {
          "output_type": "execute_result",
          "data": {
            "application/vnd.google.colaboratory.intrinsic+json": {
              "type": "string"
            },
            "text/plain": [
              "' X_sub_new = process_sub(X_sub, vec, svd) '"
            ]
          },
          "metadata": {
            "tags": []
          },
          "execution_count": 9
        }
      ]
    },
    {
      "cell_type": "code",
      "metadata": {
        "id": "ky86HLeCmMTL",
        "colab": {
          "base_uri": "https://localhost:8080/",
          "height": 35
        },
        "outputId": "1b06dcdb-37c9-48ad-c720-ce1960d80926"
      },
      "source": [
        "''' scipy.sparse.save_npz('/content/gdrive/My Drive/Colab Notebooks/data/X_train_new.npz', X_train_new) '''"
      ],
      "execution_count": 10,
      "outputs": [
        {
          "output_type": "execute_result",
          "data": {
            "application/vnd.google.colaboratory.intrinsic+json": {
              "type": "string"
            },
            "text/plain": [
              "\" scipy.sparse.save_npz('/content/gdrive/My Drive/Colab Notebooks/data/X_train_new.npz', X_train_new) \""
            ]
          },
          "metadata": {
            "tags": []
          },
          "execution_count": 10
        }
      ]
    },
    {
      "cell_type": "code",
      "metadata": {
        "id": "nX38_6KA9kBA",
        "colab": {
          "base_uri": "https://localhost:8080/",
          "height": 35
        },
        "outputId": "42af9dba-b72c-459a-b800-009687752c08"
      },
      "source": [
        "''' scipy.sparse.save_npz('/content/gdrive/My Drive/Colab Notebooks/data/X_sub_new.npz', X_sub_new) '''"
      ],
      "execution_count": 11,
      "outputs": [
        {
          "output_type": "execute_result",
          "data": {
            "application/vnd.google.colaboratory.intrinsic+json": {
              "type": "string"
            },
            "text/plain": [
              "\" scipy.sparse.save_npz('/content/gdrive/My Drive/Colab Notebooks/data/X_sub_new.npz', X_sub_new) \""
            ]
          },
          "metadata": {
            "tags": []
          },
          "execution_count": 11
        }
      ]
    },
    {
      "cell_type": "code",
      "metadata": {
        "id": "zAw13YZFLphK"
      },
      "source": [
        "X_train_new = scipy.sparse.load_npz('/content/gdrive/My Drive/Colab Notebooks/data/X_train_new.npz')\r\n",
        "X_sub_new = scipy.sparse.load_npz('/content/gdrive/My Drive/Colab Notebooks/data/X_sub_new.npz')"
      ],
      "execution_count": 12,
      "outputs": []
    },
    {
      "cell_type": "code",
      "metadata": {
        "id": "WWtCCbuzlPgn"
      },
      "source": [
        ""
      ],
      "execution_count": 12,
      "outputs": []
    },
    {
      "cell_type": "code",
      "metadata": {
        "id": "voJJSL9dC1fU"
      },
      "source": [
        "# split the set\r\n",
        "X_train = X_train_new\r\n",
        "Y_train = X_train_origin_processed['Score']"
      ],
      "execution_count": 41,
      "outputs": []
    },
    {
      "cell_type": "code",
      "metadata": {
        "colab": {
          "base_uri": "https://localhost:8080/"
        },
        "id": "oPlAWcN_Cgqc",
        "outputId": "b84e6896-b830-4d6f-e85b-964f13a4ef5e"
      },
      "source": [
        "Y_train.head(10)"
      ],
      "execution_count": 43,
      "outputs": [
        {
          "output_type": "execute_result",
          "data": {
            "text/plain": [
              "0    4.0\n",
              "1    3.0\n",
              "2    3.0\n",
              "3    5.0\n",
              "4    4.0\n",
              "5    5.0\n",
              "6    5.0\n",
              "7    5.0\n",
              "8    5.0\n",
              "9    5.0\n",
              "Name: Score, dtype: float64"
            ]
          },
          "metadata": {
            "tags": []
          },
          "execution_count": 43
        }
      ]
    },
    {
      "cell_type": "code",
      "metadata": {
        "id": "S_enZD8oO3nc"
      },
      "source": [
        "# Learn the model\r\n",
        "model = LinearRegression().fit(X_train, Y_train)"
      ],
      "execution_count": 44,
      "outputs": []
    },
    {
      "cell_type": "code",
      "metadata": {
        "id": "2mCAc1pyAHv3",
        "colab": {
          "base_uri": "https://localhost:8080/",
          "height": 577
        },
        "outputId": "a373752d-0060-4174-dcaf-ef5e62c855a8"
      },
      "source": [
        "def get_score(n): # mannually tune the parameters\r\n",
        "  if n > 4.25:\r\n",
        "    return 5\r\n",
        "  elif n > 3.49:\r\n",
        "    return 4\r\n",
        "  elif n > 2.8:\r\n",
        "    return 3\r\n",
        "  elif n > 1.8:\r\n",
        "    return 2\r\n",
        "  return 1\r\n",
        "\r\n",
        "# Evaluate your model on the testing set\r\n",
        "Y_train_pred = model.predict(X_train)\r\n",
        "print(\"RMSE on testing set = \", mean_squared_error(Y_train, Y_train_pred))\r\n",
        "Y_train_pred = np.array([get_score(n) for n in Y_train_pred])\r\n",
        "Y_train_diff = np.array(Y_train) - np.array(Y_train_pred)\r\n",
        "plt.hist(Y_train_diff, bins=10)\r\n",
        "plt.show()\r\n",
        "\r\n",
        "# Evaluate your model on the testing set\r\n",
        "print(\"RMSE on testing set = \", mean_squared_error(Y_train, Y_train_pred))\r\n",
        "\r\n",
        "# Plot a confusion matrix\r\n",
        "cm = confusion_matrix(Y_train, Y_train_pred, normalize='true')\r\n",
        "sns.heatmap(cm, annot=True)\r\n",
        "plt.title('Confusion matrix of the classifier')\r\n",
        "plt.xlabel('Predicted')\r\n",
        "plt.ylabel('True')\r\n",
        "plt.show()"
      ],
      "execution_count": 132,
      "outputs": [
        {
          "output_type": "stream",
          "text": [
            "RMSE on testing set =  0.7012115894867887\n"
          ],
          "name": "stdout"
        },
        {
          "output_type": "display_data",
          "data": {
            "image/png": "[encoded data removed]",
            "text/plain": [
              "<Figure size 432x288 with 1 Axes>"
            ]
          },
          "metadata": {
            "tags": [],
            "needs_background": "light"
          }
        },
        {
          "output_type": "stream",
          "text": [
            "RMSE on testing set =  0.7168360246233899\n"
          ],
          "name": "stdout"
        },
        {
          "output_type": "display_data",
          "data": {
            "image/png": "[encoded data removed]",
            "text/plain": [
              "<Figure size 432x288 with 2 Axes>"
            ]
          },
          "metadata": {
            "tags": [],
            "needs_background": "light"
          }
        }
      ]
    },
    {
      "cell_type": "code",
      "metadata": {
        "id": "GgTfB6ReFap0",
        "colab": {
          "base_uri": "https://localhost:8080/",
          "height": 204
        },
        "outputId": "a5b79f4d-2881-4a19-ade4-899d190134d7"
      },
      "source": [
        "X_sub['Score'] = model.predict(X_sub_new)\r\n",
        "X_sub.head()"
      ],
      "execution_count": 133,
      "outputs": [
        {
          "output_type": "execute_result",
          "data": {
            "text/html": [
              "<div>\n",
              "<style scoped>\n",
              "    .dataframe tbody tr th:only-of-type {\n",
              "        vertical-align: middle;\n",
              "    }\n",
              "\n",
              "    .dataframe tbody tr th {\n",
              "        vertical-align: top;\n",
              "    }\n",
              "\n",
              "    .dataframe thead th {\n",
              "        text-align: right;\n",
              "    }\n",
              "</style>\n",
              "<table border=\"1\" class=\"dataframe\">\n",
              "  <thead>\n",
              "    <tr style=\"text-align: right;\">\n",
              "      <th></th>\n",
              "      <th>Id</th>\n",
              "      <th>HelpfulnessNumerator</th>\n",
              "      <th>HelpfulnessDenominator</th>\n",
              "      <th>Text</th>\n",
              "      <th>film_avg</th>\n",
              "      <th>user_avg</th>\n",
              "      <th>S</th>\n",
              "      <th>T</th>\n",
              "      <th>Score</th>\n",
              "    </tr>\n",
              "  </thead>\n",
              "  <tbody>\n",
              "    <tr>\n",
              "      <th>0</th>\n",
              "      <td>5</td>\n",
              "      <td>0</td>\n",
              "      <td>0</td>\n",
              "      <td>This has been a favorite movie of mine for a l...</td>\n",
              "      <td>4.483871</td>\n",
              "      <td>5.00</td>\n",
              "      <td>5</td>\n",
              "      <td>5</td>\n",
              "      <td>5.398648</td>\n",
              "    </tr>\n",
              "    <tr>\n",
              "      <th>1</th>\n",
              "      <td>11</td>\n",
              "      <td>0</td>\n",
              "      <td>0</td>\n",
              "      <td>Even though i don't care for Henry Winklers  a...</td>\n",
              "      <td>4.483871</td>\n",
              "      <td>4.75</td>\n",
              "      <td>3</td>\n",
              "      <td>2</td>\n",
              "      <td>4.645272</td>\n",
              "    </tr>\n",
              "    <tr>\n",
              "      <th>2</th>\n",
              "      <td>17</td>\n",
              "      <td>0</td>\n",
              "      <td>0</td>\n",
              "      <td>Anorher good movie for holiday watchers..a lit...</td>\n",
              "      <td>4.483871</td>\n",
              "      <td>4.00</td>\n",
              "      <td>2</td>\n",
              "      <td>4</td>\n",
              "      <td>4.120001</td>\n",
              "    </tr>\n",
              "    <tr>\n",
              "      <th>3</th>\n",
              "      <td>46</td>\n",
              "      <td>10</td>\n",
              "      <td>14</td>\n",
              "      <td>My wife and I grew up in New Hampshire where t...</td>\n",
              "      <td>4.483871</td>\n",
              "      <td>3.00</td>\n",
              "      <td>5</td>\n",
              "      <td>4</td>\n",
              "      <td>3.540119</td>\n",
              "    </tr>\n",
              "    <tr>\n",
              "      <th>4</th>\n",
              "      <td>47</td>\n",
              "      <td>0</td>\n",
              "      <td>1</td>\n",
              "      <td>This is a first for me, I didn't like this mov...</td>\n",
              "      <td>4.483871</td>\n",
              "      <td>4.50</td>\n",
              "      <td>2</td>\n",
              "      <td>2</td>\n",
              "      <td>2.941525</td>\n",
              "    </tr>\n",
              "  </tbody>\n",
              "</table>\n",
              "</div>"
            ],
            "text/plain": [
              "   Id  HelpfulnessNumerator  HelpfulnessDenominator  ...  S  T     Score\n",
              "0   5                     0                       0  ...  5  5  5.398648\n",
              "1  11                     0                       0  ...  3  2  4.645272\n",
              "2  17                     0                       0  ...  2  4  4.120001\n",
              "3  46                    10                      14  ...  5  4  3.540119\n",
              "4  47                     0                       1  ...  2  2  2.941525\n",
              "\n",
              "[5 rows x 9 columns]"
            ]
          },
          "metadata": {
            "tags": []
          },
          "execution_count": 133
        }
      ]
    },
    {
      "cell_type": "code",
      "metadata": {
        "colab": {
          "base_uri": "https://localhost:8080/",
          "height": 204
        },
        "id": "fOmIT5zxBYi3",
        "outputId": "1ba04673-6387-4c87-8ba6-175158f8a6d0"
      },
      "source": [
        "X_sub['Score'] = X_sub['Score'].map(lambda x: get_score(x))\r\n",
        "X_sub.head()"
      ],
      "execution_count": 134,
      "outputs": [
        {
          "output_type": "execute_result",
          "data": {
            "text/html": [
              "<div>\n",
              "<style scoped>\n",
              "    .dataframe tbody tr th:only-of-type {\n",
              "        vertical-align: middle;\n",
              "    }\n",
              "\n",
              "    .dataframe tbody tr th {\n",
              "        vertical-align: top;\n",
              "    }\n",
              "\n",
              "    .dataframe thead th {\n",
              "        text-align: right;\n",
              "    }\n",
              "</style>\n",
              "<table border=\"1\" class=\"dataframe\">\n",
              "  <thead>\n",
              "    <tr style=\"text-align: right;\">\n",
              "      <th></th>\n",
              "      <th>Id</th>\n",
              "      <th>HelpfulnessNumerator</th>\n",
              "      <th>HelpfulnessDenominator</th>\n",
              "      <th>Text</th>\n",
              "      <th>film_avg</th>\n",
              "      <th>user_avg</th>\n",
              "      <th>S</th>\n",
              "      <th>T</th>\n",
              "      <th>Score</th>\n",
              "    </tr>\n",
              "  </thead>\n",
              "  <tbody>\n",
              "    <tr>\n",
              "      <th>0</th>\n",
              "      <td>5</td>\n",
              "      <td>0</td>\n",
              "      <td>0</td>\n",
              "      <td>This has been a favorite movie of mine for a l...</td>\n",
              "      <td>4.483871</td>\n",
              "      <td>5.00</td>\n",
              "      <td>5</td>\n",
              "      <td>5</td>\n",
              "      <td>5</td>\n",
              "    </tr>\n",
              "    <tr>\n",
              "      <th>1</th>\n",
              "      <td>11</td>\n",
              "      <td>0</td>\n",
              "      <td>0</td>\n",
              "      <td>Even though i don't care for Henry Winklers  a...</td>\n",
              "      <td>4.483871</td>\n",
              "      <td>4.75</td>\n",
              "      <td>3</td>\n",
              "      <td>2</td>\n",
              "      <td>5</td>\n",
              "    </tr>\n",
              "    <tr>\n",
              "      <th>2</th>\n",
              "      <td>17</td>\n",
              "      <td>0</td>\n",
              "      <td>0</td>\n",
              "      <td>Anorher good movie for holiday watchers..a lit...</td>\n",
              "      <td>4.483871</td>\n",
              "      <td>4.00</td>\n",
              "      <td>2</td>\n",
              "      <td>4</td>\n",
              "      <td>4</td>\n",
              "    </tr>\n",
              "    <tr>\n",
              "      <th>3</th>\n",
              "      <td>46</td>\n",
              "      <td>10</td>\n",
              "      <td>14</td>\n",
              "      <td>My wife and I grew up in New Hampshire where t...</td>\n",
              "      <td>4.483871</td>\n",
              "      <td>3.00</td>\n",
              "      <td>5</td>\n",
              "      <td>4</td>\n",
              "      <td>4</td>\n",
              "    </tr>\n",
              "    <tr>\n",
              "      <th>4</th>\n",
              "      <td>47</td>\n",
              "      <td>0</td>\n",
              "      <td>1</td>\n",
              "      <td>This is a first for me, I didn't like this mov...</td>\n",
              "      <td>4.483871</td>\n",
              "      <td>4.50</td>\n",
              "      <td>2</td>\n",
              "      <td>2</td>\n",
              "      <td>3</td>\n",
              "    </tr>\n",
              "  </tbody>\n",
              "</table>\n",
              "</div>"
            ],
            "text/plain": [
              "   Id  HelpfulnessNumerator  HelpfulnessDenominator  ...  S  T  Score\n",
              "0   5                     0                       0  ...  5  5      5\n",
              "1  11                     0                       0  ...  3  2      5\n",
              "2  17                     0                       0  ...  2  4      4\n",
              "3  46                    10                      14  ...  5  4      4\n",
              "4  47                     0                       1  ...  2  2      3\n",
              "\n",
              "[5 rows x 9 columns]"
            ]
          },
          "metadata": {
            "tags": []
          },
          "execution_count": 134
        }
      ]
    },
    {
      "cell_type": "code",
      "metadata": {
        "colab": {
          "base_uri": "https://localhost:8080/"
        },
        "id": "fvnLzXegCFp2",
        "outputId": "bc2de991-f069-49d5-c76c-a4b0a1e56eb7"
      },
      "source": [
        "print(X_sub.shape)"
      ],
      "execution_count": 135,
      "outputs": [
        {
          "output_type": "stream",
          "text": [
            "(300000, 9)\n"
          ],
          "name": "stdout"
        }
      ]
    },
    {
      "cell_type": "code",
      "metadata": {
        "id": "hmDRs3obUqQU"
      },
      "source": [
        "# Create the submission file\r\n",
        "X_submission = pd.read_csv('/content/gdrive/My Drive/Colab Notebooks/X_submission.csv')\r\n",
        "X_submission['Score'] = X_sub['Score']\r\n",
        "submission = X_submission[['Id', 'Score']]\r\n",
        "submission.to_csv(\"/content/gdrive/My Drive/Colab Notebooks/data/submission_V11_NLP_LRonWHOLE2.csv\", index=False)"
      ],
      "execution_count": 136,
      "outputs": []
    },
    {
      "cell_type": "code",
      "metadata": {
        "id": "CUr1sAbo9hFv",
        "colab": {
          "base_uri": "https://localhost:8080/"
        },
        "outputId": "5cecbca3-a73a-4fe9-c559-ce49557df32d"
      },
      "source": [
        "#X_submission.head(30)\r\n",
        "print(submission.shape)"
      ],
      "execution_count": 137,
      "outputs": [
        {
          "output_type": "stream",
          "text": [
            "(300000, 2)\n"
          ],
          "name": "stdout"
        }
      ]
    }
  ]
}