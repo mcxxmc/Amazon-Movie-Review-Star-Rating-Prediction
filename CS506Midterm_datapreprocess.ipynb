{
  "nbformat": 4,
  "nbformat_minor": 0,
  "metadata": {
    "colab": {
      "name": "CS506Midterm_datapreprocess.ipynb",
      "provenance": [],
      "collapsed_sections": []
    },
    "kernelspec": {
      "name": "python3",
      "display_name": "Python 3"
    }
  },
  "cells": [
    {
      "cell_type": "code",
      "metadata": {
        "id": "7WHgMOibDHzA"
      },
      "source": [
        "import pandas as pd\r\n",
        "import seaborn as sns\r\n",
        "import matplotlib.pyplot as plt\r\n",
        "import numpy as np\r\n",
        "\r\n",
        "from sklearn.model_selection import train_test_split\r\n",
        "from sklearn.metrics import mean_squared_error, confusion_matrix\r\n",
        "from sklearn.neighbors import KNeighborsClassifier\r\n",
        "from sklearn.naive_bayes import GaussianNB, MultinomialNB\r\n",
        "from sklearn.feature_extraction.text import CountVectorizer, TfidfVectorizer\r\n",
        "from sklearn.svm import SVC\r\n",
        "from sklearn.linear_model import LogisticRegression\r\n",
        "from sklearn.tree import DecisionTreeClassifier\r\n",
        "\r\n",
        "import string\r\n",
        "import collections"
      ],
      "execution_count": 1,
      "outputs": []
    },
    {
      "cell_type": "code",
      "metadata": {
        "colab": {
          "base_uri": "https://localhost:8080/"
        },
        "id": "Zdl3KLI9DNBh",
        "outputId": "1cb30395-6396-4558-9b6e-711fb8a41e23"
      },
      "source": [
        "from google.colab import drive\r\n",
        "drive.mount('/content/gdrive')"
      ],
      "execution_count": 2,
      "outputs": [
        {
          "output_type": "stream",
          "text": [
            "Mounted at /content/gdrive\n"
          ],
          "name": "stdout"
        }
      ]
    },
    {
      "cell_type": "code",
      "metadata": {
        "id": "p-KkdncsDNO6"
      },
      "source": [
        "TRAIN_PATH  = '/content/gdrive/My Drive/Colab Notebooks/X_train.csv'\r\n",
        "SUBMISSION_PATH =  '/content/gdrive/My Drive/Colab Notebooks/X_submission.csv'\r\n",
        "X_train_origin = pd.read_csv(TRAIN_PATH)\r\n",
        "X_submission = pd.read_csv(SUBMISSION_PATH)"
      ],
      "execution_count": 3,
      "outputs": []
    },
    {
      "cell_type": "code",
      "metadata": {
        "id": "p28Dd8KDxsdC"
      },
      "source": [
        ""
      ],
      "execution_count": null,
      "outputs": []
    },
    {
      "cell_type": "code",
      "metadata": {
        "colab": {
          "base_uri": "https://localhost:8080/"
        },
        "id": "3AEVivRQDNap",
        "outputId": "0947e6b2-cbbb-4fe4-ba49-b8e3ef309f17"
      },
      "source": [
        "# to visualize some data\r\n",
        "X_temp = X_train_origin[['Score', 'Summary']]\r\n",
        "X_temp['Summarylength'] = X_temp['Summary'].str.len()\r\n",
        "X_temp = X_temp.drop('Summary', axis=1)\r\n",
        "X_temp = X_temp.groupby('Score').mean()\r\n",
        "print(X_temp)"
      ],
      "execution_count": 4,
      "outputs": [
        {
          "output_type": "stream",
          "text": [
            "       Summarylength\n",
            "Score               \n",
            "1.0        27.866070\n",
            "2.0        29.092838\n",
            "3.0        29.766138\n",
            "4.0        29.162521\n",
            "5.0        26.190694\n"
          ],
          "name": "stdout"
        },
        {
          "output_type": "stream",
          "text": [
            "/usr/local/lib/python3.7/dist-packages/ipykernel_launcher.py:3: SettingWithCopyWarning: \n",
            "A value is trying to be set on a copy of a slice from a DataFrame.\n",
            "Try using .loc[row_indexer,col_indexer] = value instead\n",
            "\n",
            "See the caveats in the documentation: https://pandas.pydata.org/pandas-docs/stable/user_guide/indexing.html#returning-a-view-versus-a-copy\n",
            "  This is separate from the ipykernel package so we can avoid doing imports until\n"
          ],
          "name": "stderr"
        }
      ]
    },
    {
      "cell_type": "code",
      "metadata": {
        "colab": {
          "base_uri": "https://localhost:8080/"
        },
        "id": "AoeE7BDlDWgC",
        "outputId": "cebaba51-7371-4f78-d3a6-d6b7b07dc986"
      },
      "source": [
        "X_temp = X_train_origin[['Score', 'Text']]\r\n",
        "X_temp['Textlength'] = X_temp['Text'].str.len()\r\n",
        "X_temp = X_temp.drop('Text', axis=1)\r\n",
        "X_temp = X_temp.groupby('Score').mean()\r\n",
        "print(X_temp)"
      ],
      "execution_count": 5,
      "outputs": [
        {
          "output_type": "stream",
          "text": [
            "        Textlength\n",
            "Score             \n",
            "1.0     862.809291\n",
            "2.0    1123.463720\n",
            "3.0    1122.747793\n",
            "4.0    1100.062099\n",
            "5.0     786.696716\n"
          ],
          "name": "stdout"
        },
        {
          "output_type": "stream",
          "text": [
            "/usr/local/lib/python3.7/dist-packages/ipykernel_launcher.py:2: SettingWithCopyWarning: \n",
            "A value is trying to be set on a copy of a slice from a DataFrame.\n",
            "Try using .loc[row_indexer,col_indexer] = value instead\n",
            "\n",
            "See the caveats in the documentation: https://pandas.pydata.org/pandas-docs/stable/user_guide/indexing.html#returning-a-view-versus-a-copy\n",
            "  \n"
          ],
          "name": "stderr"
        }
      ]
    },
    {
      "cell_type": "code",
      "metadata": {
        "colab": {
          "base_uri": "https://localhost:8080/"
        },
        "id": "l0mtOv0SDWxi",
        "outputId": "845bfaa3-4547-440e-8a40-174b073bc3e4"
      },
      "source": [
        "X_temp = X_train_origin[['Score', 'Time']]\r\n",
        "X_temp['date'] = pd.to_datetime(X_temp['Time'], unit='s')\r\n",
        "X_temp['year'] = X_temp['date'].dt.year\r\n",
        "X_temp = X_temp.drop(columns=['Time', 'date'])\r\n",
        "X_temp = X_temp.groupby('year').mean()\r\n",
        "print(X_temp)"
      ],
      "execution_count": 6,
      "outputs": [
        {
          "output_type": "stream",
          "text": [
            "/usr/local/lib/python3.7/dist-packages/ipykernel_launcher.py:2: SettingWithCopyWarning: \n",
            "A value is trying to be set on a copy of a slice from a DataFrame.\n",
            "Try using .loc[row_indexer,col_indexer] = value instead\n",
            "\n",
            "See the caveats in the documentation: https://pandas.pydata.org/pandas-docs/stable/user_guide/indexing.html#returning-a-view-versus-a-copy\n",
            "  \n",
            "/usr/local/lib/python3.7/dist-packages/ipykernel_launcher.py:3: SettingWithCopyWarning: \n",
            "A value is trying to be set on a copy of a slice from a DataFrame.\n",
            "Try using .loc[row_indexer,col_indexer] = value instead\n",
            "\n",
            "See the caveats in the documentation: https://pandas.pydata.org/pandas-docs/stable/user_guide/indexing.html#returning-a-view-versus-a-copy\n",
            "  This is separate from the ipykernel package so we can avoid doing imports until\n"
          ],
          "name": "stderr"
        },
        {
          "output_type": "stream",
          "text": [
            "         Score\n",
            "year          \n",
            "1997  4.857143\n",
            "1998  4.188011\n",
            "1999  4.006810\n",
            "2000  4.031556\n",
            "2001  4.007905\n",
            "2002  4.014383\n",
            "2003  3.999198\n",
            "2004  3.958226\n",
            "2005  3.951324\n",
            "2006  3.979884\n",
            "2007  4.061298\n",
            "2008  3.988038\n",
            "2009  3.988523\n",
            "2010  3.986099\n",
            "2011  4.000012\n",
            "2012  4.130792\n",
            "2013  4.280746\n",
            "2014  4.259809\n"
          ],
          "name": "stdout"
        }
      ]
    },
    {
      "cell_type": "code",
      "metadata": {
        "colab": {
          "base_uri": "https://localhost:8080/"
        },
        "id": "Ozjmqn0nDW9a",
        "outputId": "58348af2-f496-46da-91f2-2732342dc0c8"
      },
      "source": [
        "X_temp = X_train_origin[['Score', 'Time']]\r\n",
        "X_temp['date'] = pd.to_datetime(X_temp['Time'], unit='s')\r\n",
        "X_temp['month'] = X_temp['date'].dt.month\r\n",
        "X_temp = X_temp.drop(columns=['Time', 'date'])\r\n",
        "X_temp = X_temp.groupby('month').mean()\r\n",
        "print(X_temp)"
      ],
      "execution_count": 7,
      "outputs": [
        {
          "output_type": "stream",
          "text": [
            "/usr/local/lib/python3.7/dist-packages/ipykernel_launcher.py:2: SettingWithCopyWarning: \n",
            "A value is trying to be set on a copy of a slice from a DataFrame.\n",
            "Try using .loc[row_indexer,col_indexer] = value instead\n",
            "\n",
            "See the caveats in the documentation: https://pandas.pydata.org/pandas-docs/stable/user_guide/indexing.html#returning-a-view-versus-a-copy\n",
            "  \n",
            "/usr/local/lib/python3.7/dist-packages/ipykernel_launcher.py:3: SettingWithCopyWarning: \n",
            "A value is trying to be set on a copy of a slice from a DataFrame.\n",
            "Try using .loc[row_indexer,col_indexer] = value instead\n",
            "\n",
            "See the caveats in the documentation: https://pandas.pydata.org/pandas-docs/stable/user_guide/indexing.html#returning-a-view-versus-a-copy\n",
            "  This is separate from the ipykernel package so we can avoid doing imports until\n"
          ],
          "name": "stderr"
        },
        {
          "output_type": "stream",
          "text": [
            "          Score\n",
            "month          \n",
            "1      4.150487\n",
            "2      4.131141\n",
            "3      4.125995\n",
            "4      4.122719\n",
            "5      4.110686\n",
            "6      4.102390\n",
            "7      4.101642\n",
            "8      4.060489\n",
            "9      4.069147\n",
            "10     4.074341\n",
            "11     4.090945\n",
            "12     4.152789\n"
          ],
          "name": "stdout"
        }
      ]
    },
    {
      "cell_type": "code",
      "metadata": {
        "colab": {
          "base_uri": "https://localhost:8080/"
        },
        "id": "M2ogRTu6DXJS",
        "outputId": "ebff4ac1-93d4-4709-a7db-bed125f64a22"
      },
      "source": [
        "X_temp = X_train_origin[['Score', 'HelpfulnessNumerator']]\r\n",
        "X_temp = X_temp.groupby('Score').mean()\r\n",
        "print(X_temp)"
      ],
      "execution_count": 8,
      "outputs": [
        {
          "output_type": "stream",
          "text": [
            "       HelpfulnessNumerator\n",
            "Score                      \n",
            "1.0                5.833487\n",
            "2.0                3.429142\n",
            "3.0                2.930144\n",
            "4.0                3.353811\n",
            "5.0                3.567425\n"
          ],
          "name": "stdout"
        }
      ]
    },
    {
      "cell_type": "code",
      "metadata": {
        "colab": {
          "base_uri": "https://localhost:8080/"
        },
        "id": "1xyLDzxsDXVR",
        "outputId": "dd84bc32-2d48-49c9-f628-acc6bdcb104f"
      },
      "source": [
        "X_temp = X_train_origin[['Score', 'HelpfulnessDenominator']]\r\n",
        "X_temp = X_temp.groupby('Score').mean()\r\n",
        "print(X_temp)"
      ],
      "execution_count": 9,
      "outputs": [
        {
          "output_type": "stream",
          "text": [
            "       HelpfulnessDenominator\n",
            "Score                        \n",
            "1.0                 15.621457\n",
            "2.0                  7.626516\n",
            "3.0                  4.902460\n",
            "4.0                  4.280335\n",
            "5.0                  4.383712\n"
          ],
          "name": "stdout"
        }
      ]
    },
    {
      "cell_type": "code",
      "metadata": {
        "id": "l-0yvF6sG7Mi"
      },
      "source": [
        ""
      ],
      "execution_count": null,
      "outputs": []
    },
    {
      "cell_type": "code",
      "metadata": {
        "id": "yoIVj_ltDdYh"
      },
      "source": [
        "# preprocess\r\n",
        "def get_nlp_score(ws_array_normalized, words_list, s):\r\n",
        "  temp = np.array([0.0, 0.0, 0.0, 0.0, 0.0])\r\n",
        "  find = False # if any word is in the vocabulary\r\n",
        "  if type(s) != float:\r\n",
        "    s = s.lower()\r\n",
        "    exclude = set(string.punctuation)\r\n",
        "    s = ''.join(ch for ch in s if ch not in exclude)\r\n",
        "    words = s.split(' ')\r\n",
        "    for word in words:\r\n",
        "      if word in words_list:\r\n",
        "        find = True\r\n",
        "        temp = temp + ws_array_normalized[words_list.index(word)]\r\n",
        "  else:\r\n",
        "    return [0.0, 0.0, 0.0, 0.0, 0.0]\r\n",
        "  if not find:\r\n",
        "    return [0.0, 0.0, 0.0, 0.0, 0.0]\r\n",
        "  total = temp.sum()\r\n",
        "  temp_normalized = temp / total\r\n",
        "  return temp_normalized.tolist()\r\n",
        "\r\n",
        "def get_avg_score(x, dic, avg_all_scores):\r\n",
        "  \"\"\" return the avg score stored in the dictionary \"\"\"\r\n",
        "  if x in dic:\r\n",
        "    return dic[x]\r\n",
        "  return avg_all_scores\r\n",
        "\r\n",
        "def is_summary_length_long(s):\r\n",
        "  \"\"\" take in a string s and return whether it is long\"\"\"\r\n",
        "  if type(s) == float:\r\n",
        "    return 0\r\n",
        "  if len(s) > 28:\r\n",
        "    return 1\r\n",
        "  return 0\r\n",
        "\r\n",
        "def is_text_length_long(s):\r\n",
        "  if type(s) == float:\r\n",
        "    return 0\r\n",
        "  if len(s) > 1000:\r\n",
        "    return 1\r\n",
        "  return 0\r\n",
        "\r\n",
        "def is_in_year_above_four(year):\r\n",
        "  if year in [2003,2004,2005,2006,2008,2009,2010]:\r\n",
        "    return 0\r\n",
        "  return 1\r\n",
        "\r\n",
        "def is_numerator_above_3(n):\r\n",
        "  if n > 3:\r\n",
        "    return 1\r\n",
        "  return 0\r\n",
        "\r\n",
        "def is_numerator_above_5(n):\r\n",
        "  if n > 5:\r\n",
        "    return 1\r\n",
        "  return 0\r\n",
        "\r\n",
        "def is_deno_above_7(n):\r\n",
        "  if n > 7:\r\n",
        "    return 1\r\n",
        "  return 0\r\n",
        "\r\n",
        "def is_deno_above_15(n):\r\n",
        "  if n > 15:\r\n",
        "    return 1\r\n",
        "  return 0\r\n",
        "\r\n",
        "def uniques_level(x, uniques):\r\n",
        "  for i in range(len(uniques)):\r\n",
        "    if x in uniques[i]:\r\n",
        "      return i\r\n",
        "  return 0 \r\n",
        "\r\n",
        "def preprocess(dataframe, ws_array_normalized, words_list, ws_array_normalized2, words_list2, film_dic, user_dic, film_dic_std, user_dic_std, avg_all_scores, uniques_summary, uniques_text):\r\n",
        "  temp = dataframe.drop(columns = ['Id', 'ProductId', 'UserId', 'Summary', 'Text', 'Score']) # drop unnecessary info\r\n",
        "\r\n",
        "  temp['SummaryLength'] = dataframe['Summary'].str.len()\r\n",
        "  temp['TextLength'] = dataframe['Text'].str.len()\r\n",
        "  temp = (temp - temp.mean()) / temp.std()\r\n",
        "  temp = temp.fillna(temp.mean())\r\n",
        "\r\n",
        "  temp['nabove3'] = dataframe['HelpfulnessNumerator'].map(lambda x: is_numerator_above_3(x))\r\n",
        "  temp['nabove5'] = dataframe['HelpfulnessNumerator'].map(lambda x: is_numerator_above_5(x))\r\n",
        "  temp['dabove7'] = dataframe['HelpfulnessDenominator'].map(lambda x: is_deno_above_7(x))\r\n",
        "  temp['dabove15'] = dataframe['HelpfulnessDenominator'].map(lambda x: is_deno_above_15(x))\r\n",
        "\r\n",
        "  temp['year'] = pd.to_datetime(dataframe['Time'], unit='s').dt.year\r\n",
        "  temp['isHighYear'] = temp['year'].map(lambda x: is_in_year_above_four(x))\r\n",
        "\r\n",
        "  temp['SummaryLengthEval'] = dataframe['Summary'].map(lambda x: is_summary_length_long(x))\r\n",
        "  temp['TextLengthEval'] = dataframe['Text'].map(lambda x: is_text_length_long(x))\r\n",
        "\r\n",
        "  temp['film_avg'] = dataframe['ProductId'].map(lambda x: get_avg_score(x, film_dic, avg_all_scores))\r\n",
        "  temp['user_avg'] = dataframe['UserId'].map(lambda x: get_avg_score(x, user_dic, avg_all_scores))\r\n",
        "  temp['film_std'] = dataframe['ProductId'].map(lambda x: get_avg_score(x, film_dic_std, 0)).fillna(0)\r\n",
        "  temp['user_std'] = dataframe['UserId'].map(lambda x: get_avg_score(x, user_dic_std, 0)).fillna(0)\r\n",
        "\r\n",
        "  temp['unique_summary'] = dataframe['Summary'].map(lambda x: uniques_level(x, uniques_summary))\r\n",
        "  temp['unique_text'] = dataframe['Text'].map(lambda x: uniques_level(x, uniques_text))\r\n",
        "\r\n",
        "  temp['SummaryNLP'] = dataframe['Summary'].map(lambda x: get_nlp_score(ws_array_normalized, words_list, x))\r\n",
        "  temp[['S1', 'S2', 'S3', 'S4', 'S5']] = pd.DataFrame(temp['SummaryNLP'].tolist(), index = temp.index)\r\n",
        "  temp['TextNLP'] = dataframe['Summary'].map(lambda x: get_nlp_score(ws_array_normalized2, words_list2, x))\r\n",
        "  temp[['t1', 't2', 't3', 't4', 't5']] = pd.DataFrame(temp['TextNLP'].tolist(), index = temp.index)\r\n",
        "\r\n",
        "  temp = temp.drop(columns=['year', 'SummaryNLP', 'TextNLP'])\r\n",
        "  temp['Score'] = dataframe['Score']\r\n",
        "  return temp\r\n",
        "\r\n",
        "  \r\n",
        "def preprocess_nonnegative(dataframe, ws_array_normalized, words_list, ws_array_normalized2, words_list2, film_dic, user_dic, film_dic_std, user_dic_std, avg_all_scores, uniques_summary, uniques_text):\r\n",
        "  ''' use different scaling to avoid negative numbers '''\r\n",
        "  temp = dataframe.drop(columns = ['Id', 'ProductId', 'UserId', 'Summary', 'Text', 'Score']) # drop unnecessary info\r\n",
        "\r\n",
        "  temp['SummaryLength'] = dataframe['Summary'].str.len()\r\n",
        "  temp['TextLength'] = dataframe['Text'].str.len()\r\n",
        "  temp = (temp - temp.min()) / temp.max()\r\n",
        "  temp = temp.fillna(temp.mean())\r\n",
        "\r\n",
        "  temp['nabove3'] = dataframe['HelpfulnessNumerator'].map(lambda x: is_numerator_above_3(x))\r\n",
        "  temp['nabove5'] = dataframe['HelpfulnessNumerator'].map(lambda x: is_numerator_above_5(x))\r\n",
        "  temp['dabove7'] = dataframe['HelpfulnessDenominator'].map(lambda x: is_deno_above_7(x))\r\n",
        "  temp['dabove15'] = dataframe['HelpfulnessDenominator'].map(lambda x: is_deno_above_15(x))\r\n",
        "\r\n",
        "  temp['year'] = pd.to_datetime(dataframe['Time'], unit='s').dt.year\r\n",
        "  temp['isHighYear'] = temp['year'].map(lambda x: is_in_year_above_four(x))\r\n",
        "\r\n",
        "  temp['SummaryLengthEval'] = dataframe['Summary'].map(lambda x: is_summary_length_long(x))\r\n",
        "  temp['TextLengthEval'] = dataframe['Text'].map(lambda x: is_text_length_long(x))\r\n",
        "\r\n",
        "  temp['film_avg'] = dataframe['ProductId'].map(lambda x: get_avg_score(x, film_dic, avg_all_scores))\r\n",
        "  temp['user_avg'] = dataframe['UserId'].map(lambda x: get_avg_score(x, user_dic, avg_all_scores))\r\n",
        "  temp['film_std'] = dataframe['ProductId'].map(lambda x: get_avg_score(x, film_dic_std, 0)).fillna(0)\r\n",
        "  temp['user_std'] = dataframe['UserId'].map(lambda x: get_avg_score(x, user_dic_std, 0)).fillna(0)\r\n",
        "\r\n",
        "  temp['unique_summary'] = dataframe['Summary'].map(lambda x: uniques_level(x, uniques_summary))\r\n",
        "  temp['unique_text'] = dataframe['Text'].map(lambda x: uniques_level(x, uniques_text))\r\n",
        "\r\n",
        "  temp['SummaryNLP'] = dataframe['Summary'].map(lambda x: get_nlp_score(ws_array_normalized, words_list, x))\r\n",
        "  temp[['S1', 'S2', 'S3', 'S4', 'S5']] = pd.DataFrame(temp['SummaryNLP'].tolist(), index = temp.index)\r\n",
        "  temp['TextNLP'] = dataframe['Summary'].map(lambda x: get_nlp_score(ws_array_normalized2, words_list2, x))\r\n",
        "  temp[['t1', 't2', 't3', 't4', 't5']] = pd.DataFrame(temp['TextNLP'].tolist(), index = temp.index)\r\n",
        "\r\n",
        "  temp = temp.drop(columns=['year', 'SummaryNLP', 'TextNLP'])\r\n",
        "  temp['Score'] = dataframe['Score']\r\n",
        "  return temp"
      ],
      "execution_count": 64,
      "outputs": []
    },
    {
      "cell_type": "code",
      "metadata": {
        "colab": {
          "base_uri": "https://localhost:8080/"
        },
        "id": "rqCzsGCwDdkk",
        "outputId": "c5245102-c698-4d5b-af7c-234ebc4621f6"
      },
      "source": [
        "all_train_scores = X_train_origin['Score'].to_list()\r\n",
        "avg_all_scores = sum(all_train_scores) / len(all_train_scores) # the avg\r\n",
        "print(avg_all_scores)"
      ],
      "execution_count": 26,
      "outputs": [
        {
          "output_type": "stream",
          "text": [
            "4.1114678508486024\n"
          ],
          "name": "stdout"
        }
      ]
    },
    {
      "cell_type": "code",
      "metadata": {
        "colab": {
          "base_uri": "https://localhost:8080/"
        },
        "id": "3AOA7fDEDNmC",
        "outputId": "ba9a7b77-3323-4292-b34c-6577dab7aaad"
      },
      "source": [
        "film_scores_df = X_train_origin[['ProductId', 'Score']]\r\n",
        "film_df = film_scores_df.groupby('ProductId').mean()\r\n",
        "film_dic = film_df.to_dict()['Score']\r\n",
        "\r\n",
        "#print(film_dic) \r\n",
        "print(len(film_dic))"
      ],
      "execution_count": 27,
      "outputs": [
        {
          "output_type": "stream",
          "text": [
            "50050\n"
          ],
          "name": "stdout"
        }
      ]
    },
    {
      "cell_type": "code",
      "metadata": {
        "colab": {
          "base_uri": "https://localhost:8080/"
        },
        "id": "HNyUOOoVu-Cq",
        "outputId": "d93c9bd0-5d72-44f3-b7ce-396e9fce69ee"
      },
      "source": [
        "film_df_std = film_scores_df.groupby('ProductId').std()\r\n",
        "film_dic_std = film_df_std.to_dict()['Score']\r\n",
        "print(len(film_dic_std))"
      ],
      "execution_count": 54,
      "outputs": [
        {
          "output_type": "stream",
          "text": [
            "50050\n"
          ],
          "name": "stdout"
        }
      ]
    },
    {
      "cell_type": "code",
      "metadata": {
        "colab": {
          "base_uri": "https://localhost:8080/"
        },
        "id": "Tv6BgmhuDNyx",
        "outputId": "7f911bca-1751-4362-d625-a17d641de8c1"
      },
      "source": [
        "users_scores_df = X_train_origin[['UserId', 'Score']]\r\n",
        "user_df = users_scores_df.groupby('UserId').mean()\r\n",
        "user_dic = user_df.to_dict()['Score']\r\n",
        "\r\n",
        "#print(user_dic)\r\n",
        "print(len(user_dic))"
      ],
      "execution_count": 28,
      "outputs": [
        {
          "output_type": "stream",
          "text": [
            "123958\n"
          ],
          "name": "stdout"
        }
      ]
    },
    {
      "cell_type": "code",
      "metadata": {
        "colab": {
          "base_uri": "https://localhost:8080/"
        },
        "id": "Y7EdravnvpDa",
        "outputId": "c22812d7-0151-4908-feea-6fc3a12bd0db"
      },
      "source": [
        "user_df_std = users_scores_df.groupby('UserId').std()\r\n",
        "user_dic_std = user_df_std.to_dict()['Score']\r\n",
        "print(len(user_dic_std))"
      ],
      "execution_count": 56,
      "outputs": [
        {
          "output_type": "stream",
          "text": [
            "123958\n"
          ],
          "name": "stdout"
        }
      ]
    },
    {
      "cell_type": "code",
      "metadata": {
        "id": "83oJPdQUDp_Z"
      },
      "source": [
        "# NLP\r\n",
        "''' all_summaries = X_train_origin['Summary'].fillna('').to_list()\r\n",
        "vectorizer = TfidfVectorizer(stop_words='english')\r\n",
        "words = vectorizer.fit_transform(all_summaries)\r\n",
        "word_list = vectorizer.get_feature_names()\r\n",
        "count_list = np.asarray(words.sum(axis=0))[0]\r\n",
        "dic = dict(zip(word_list, count_list))\r\n",
        "the_vocab = list(dict(sorted(dic.items(), key=lambda item: item[1], reverse=True)))[:200] # 200 most common words\r\n",
        "print(the_vocab) '''\r\n",
        "''' with open(\"/content/gdrive/My Drive/Colab Notebooks/data/summary200words.txt\", 'w') as f:\r\n",
        "  f.write(' '.join(the_vocab)) '''"
      ],
      "execution_count": null,
      "outputs": []
    },
    {
      "cell_type": "code",
      "metadata": {
        "colab": {
          "base_uri": "https://localhost:8080/"
        },
        "id": "PGBq-SfODqKq",
        "outputId": "c9092025-b162-49a7-efbd-268a23b47fa5"
      },
      "source": [
        "with open(\"/content/gdrive/My Drive/Colab Notebooks/data/summary200words.txt\", 'r') as f:\r\n",
        "  the_vocab = f.read().split(' ')\r\n",
        "print(the_vocab)\r\n",
        "\r\n",
        "documents_summary = []\r\n",
        "documents_text = []\r\n",
        "for score in [1,2,3,4,5]:\r\n",
        "    df_temp = X_train_origin[X_train_origin['Score'] == score]\r\n",
        "    str_list_temp = df_temp['Summary'].to_list()\r\n",
        "    str_list_temp2 = df_temp['Text'].to_list()\r\n",
        "    str_list_temp = [s for s in str_list_temp if type(s) != float]\r\n",
        "    str_list_temp2 = [s for s in str_list_temp2 if type(s) != float]\r\n",
        "    document_summary = ' '.join(str_list_temp)\r\n",
        "    document_text = ' '.join(str_list_temp2)\r\n",
        "    documents_summary.append(document_summary)\r\n",
        "    documents_text.append(document_text)\r\n",
        "\r\n",
        "vectorizer2 = TfidfVectorizer(stop_words='english')\r\n",
        "words2 = vectorizer2.fit_transform(the_vocab)\r\n",
        "words_score = vectorizer2.transform(documents_summary)\r\n",
        "ws_array = np.array(words_score.toarray().T)\r\n",
        "#print(ws_array)\r\n",
        "\r\n",
        "row_sums = ws_array.sum(axis=1)\r\n",
        "ws_array_normalized = ws_array / row_sums[:, np.newaxis]\r\n",
        "#print(ws_array_normalized)"
      ],
      "execution_count": 29,
      "outputs": [
        {
          "output_type": "stream",
          "text": [
            "['movie', 'great', 'good', 'love', 'best', 'film', 'classic', 'fun', 'dvd', 'excellent', 'funny', 'series', 'stars', 'better', 'story', 'bad', 'time', 'awesome', 'season', 'movies', 'like', 'just', 'wonderful', 'entertaining', 'loved', 'watch', 'favorite', 'action', 'really', 'family', 'comedy', 'worth', 'ok', 'review', 'interesting', 'don', 'amazing', 'horror', 'fantastic', 'old', 'ray', 'blu', 'tv', 'nice', 'cute', 'pretty', 'wow', 'enjoyable', 'beautiful', 'collection', 'little', 'flick', 'original', 'star', 'hilarious', 'new', 'boring', 'expected', 'life', 'true', 'set', 'man', 'perfect', 'way', 'christmas', 'okay', 'films', 'buy', 'masterpiece', 'thriller', 'real', 'drama', 'version', 'brilliant', 'disappointing', 'fan', 'seen', 'quot', 'kids', 'finally', 'war', 'book', 'acting', 'quality', 'entertainment', 'watching', 'liked', 'worst', 've', 'fans', 'long', 'big', 'greatest', 'workout', 'outstanding', 'sequel', 'western', 'say', 'fi', 'video', 'sci', 'different', 'cool', 'gift', 'dark', 'thought', 'decent', 'history', 'scary', 'waste', 'end', 'disney', 'make', 'music', 'years', 'world', 'did', 'terrible', 'enjoyed', 'special', 'sweet', 'want', 'day', 'surprisingly', 'cast', 'superb', 'know', 'money', 'look', 'price', 'oh', 'complete', 'ending', 'does', 'right', 'people', 'think', 'horrible', 'got', 'plot', 'poor', 'hard', 'heart', 'year', 'awful', 'absolutely', 'romantic', 'gets', 'disappointed', 'yes', 'release', 'didn', 'quite', 'll', 'adventure', 'slow', 'work', 'far', 'favorites', 'anime', 'tale', 'documentary', 'gem', 'sad', 'epic', 'solid', 'american', 'super', 'edition', 'performance', 'powerful', 'stuff', 'average', 'second', 'bit', 'remake', 'night', 'shows', 'kind', 'surprise', 'bond', 'wait', 'lost', 'simply', 'fine', 'need', 'john', 'terrific', 'come', 'mystery', 'doesn', 'live', 'makes', 'lot', 'let', 'moving', 'high', 'times', 'stupid', 'happy']\n"
          ],
          "name": "stdout"
        }
      ]
    },
    {
      "cell_type": "code",
      "metadata": {
        "id": "9DoPDiIaDqWh"
      },
      "source": [
        "# do the same on text\r\n",
        "''' all_texts = X_train_origin['Text'].fillna('').to_list()\r\n",
        "vectorizer3 = TfidfVectorizer(stop_words='english')\r\n",
        "words3 = vectorizer3.fit_transform(all_texts)\r\n",
        "word_list2 = vectorizer3.get_feature_names()\r\n",
        "count_list2 = np.asarray(words3.sum(axis=0))[0]\r\n",
        "dic2 = dict(zip(word_list2, count_list2))\r\n",
        "the_vocab2 = list(dict(sorted(dic2.items(), key=lambda item: item[1], reverse=True)))[:200] # 200 most common words\r\n",
        "print(the_vocab2) '''\r\n",
        "''' with open(\"/content/gdrive/My Drive/Colab Notebooks/data/text200words.txt\", 'w') as f:\r\n",
        "  f.write(' '.join(the_vocab2)) '''"
      ],
      "execution_count": null,
      "outputs": []
    },
    {
      "cell_type": "code",
      "metadata": {
        "colab": {
          "base_uri": "https://localhost:8080/"
        },
        "id": "tY6X2oJUDqhy",
        "outputId": "7ef9071a-47b3-44a6-a422-0b0392f334c2"
      },
      "source": [
        "with open(\"/content/gdrive/My Drive/Colab Notebooks/data/text200words.txt\", 'r') as f:\r\n",
        "  the_vocab2 = f.read().split(' ')\r\n",
        "print(the_vocab2)\r\n",
        "\r\n",
        "vectorizer4 = TfidfVectorizer(stop_words='english')\r\n",
        "words4 = vectorizer4.fit_transform(the_vocab2)\r\n",
        "words_score2 = vectorizer4.transform(documents_text)\r\n",
        "ws_array2 = np.array(words_score2.toarray().T)\r\n",
        "\r\n",
        "row_sums2 = ws_array2.sum(axis=1)\r\n",
        "ws_array_normalized2 = ws_array2 / row_sums2[:, np.newaxis]"
      ],
      "execution_count": 30,
      "outputs": [
        {
          "output_type": "stream",
          "text": [
            "['movie', 'film', 'great', 'good', 'like', 'just', 'love', 'story', 'watch', 'dvd', 'really', 'movies', 'time', 'series', 'best', '34', 'season', 'quot', 'don', 'watching', 'better', 'did', 'funny', 'think', 'seen', 'acting', 'way', 'people', 'characters', 'action', 'little', 'make', 'fun', 'bad', 'family', 'loved', 'know', 'life', 'enjoyed', 'old', 'enjoy', 'recommend', 'films', 'watched', 'worth', 'say', 'character', 'plot', 've', 'does', 'new', 'end', 'years', 'actors', 'set', 'fan', 'didn', 'excellent', 'lot', 'want', 'times', 'scenes', 'cast', 'tv', 'man', 'original', 'thought', 'buy', 'got', 'classic', 'real', 'version', 'interesting', 'saw', 'going', 'collection', 'makes', 'favorite', 'music', 'pretty', 'long', 'quality', 'shows', 'wonderful', 'kids', 'special', 'liked', 'stars', 'bit', 'book', 'episodes', 'look', 'll', 'work', 'comedy', 'world', 'ray', 'thing', 'horror', 'things', 'star', 'young', 'big', 'bought', 'entertaining', 'right', 'scene', 'ending', 'video', 'feel', 'episode', 'come', 'day', 'job', 'actually', 'doesn', 'quite', 'nice', 'different', 'sure', 'line', 'true', 'blu', 'effects', 'hard', 'highly', 'year', 'far', 'looking', 'came', 'especially', 'performance', 'definitely', 'kind', 'price', 'role', 'gets', 'amazing', 'probably', 'perfect', 'wasn', 'war', 'money', 'seeing', 'beautiful', 'played', 'isn', 'director', 'away', 'sound', 'amazon', 'second', 'picture', 'need', 'fans', 'awesome', 'humor', 'john', 'guy', 'said', 'read', 'children', 'play', 'high', 'seasons', 'happy', 'glad', 'fact', 'actor', 'having', 'christmas', 'minutes', 'girl', 'wanted', 'wait', 'won', 'screen', 'plays', 'making', 'comes', 'course', 'believe', 'wife', 'wish', 'remember', 'night', 'release', 'hope', 'overall', 'let', 'getting', 'stories', 'history', 'maybe', 'point', 'home', 'disc', 'enjoyable', 'used', 'friends']\n"
          ],
          "name": "stdout"
        }
      ]
    },
    {
      "cell_type": "code",
      "metadata": {
        "id": "ffoWGhU7G_W5"
      },
      "source": [
        ""
      ],
      "execution_count": null,
      "outputs": []
    },
    {
      "cell_type": "code",
      "metadata": {
        "colab": {
          "base_uri": "https://localhost:8080/"
        },
        "id": "Knx6ZGowG_iy",
        "outputId": "279f2591-c1d2-4837-ca59-7f466c1ed1c7"
      },
      "source": [
        "most_frequent_words = []\r\n",
        "current_score = 1\r\n",
        "for document_summary in documents_summary:\r\n",
        "  vectorizer_test = CountVectorizer(stop_words='english')\r\n",
        "  words_test = vectorizer_test.fit_transform(document_summary.split('.'))\r\n",
        "  words_bag = vectorizer_test.transform(document_summary.split('.'))\r\n",
        "  sum_words = words_bag.sum(axis=0)\r\n",
        "  words_freq = [(word, sum_words[0, idx]) for word, idx in vectorizer_test.vocabulary_.items()]\r\n",
        "  words_freq =sorted(words_freq, key = lambda x: x[1], reverse=True)\r\n",
        "  print(\"For score \" + str(current_score))\r\n",
        "  print(words_freq[:100])\r\n",
        "  current_score += 1\r\n",
        "  most_frequent_words.append(words_freq[:100])"
      ],
      "execution_count": 31,
      "outputs": [
        {
          "output_type": "stream",
          "text": [
            "For score 1\n",
            "[('movie', 8988), ('bad', 4636), ('worst', 3077), ('boring', 2598), ('waste', 2527), ('time', 2495), ('film', 2467), ('don', 2334), ('good', 1973), ('terrible', 1955), ('horrible', 1917), ('awful', 1917), ('dvd', 1836), ('just', 1731), ('like', 1504), ('money', 1484), ('really', 1326), ('star', 1325), ('great', 1280), ('stars', 1094), ('stupid', 1082), ('movies', 1081), ('watch', 1036), ('poor', 956), ('seen', 853), ('garbage', 837), ('buy', 820), ('disappointing', 740), ('did', 696), ('ve', 692), ('worth', 683), ('funny', 656), ('better', 653), ('review', 643), ('ray', 639), ('version', 623), ('crap', 612), ('blu', 610), ('story', 609), ('horror', 599), ('quality', 599), ('make', 551), ('way', 550), ('love', 548), ('oh', 546), ('series', 546), ('disappointment', 534), ('lame', 515), ('zero', 512), ('didn', 509), ('big', 509), ('worse', 504), ('disappointed', 493), ('acting', 481), ('quot', 479), ('watching', 457), ('sucks', 455), ('save', 443), ('dumb', 440), ('trash', 439), ('original', 432), ('people', 423), ('beware', 412), ('best', 405), ('real', 402), ('season', 401), ('hollywood', 396), ('plot', 390), ('release', 389), ('want', 381), ('hate', 380), ('say', 378), ('bother', 371), ('wrong', 368), ('total', 367), ('does', 362), ('wow', 362), ('book', 361), ('complete', 360), ('comedy', 360), ('minutes', 357), ('mess', 353), ('films', 349), ('new', 349), ('dull', 346), ('life', 342), ('avoid', 341), ('old', 339), ('absolutely', 331), ('video', 330), ('doesn', 330), ('sad', 329), ('let', 329), ('slow', 323), ('got', 318), ('away', 316), ('pointless', 310), ('rip', 309), ('couldn', 300), ('man', 297)]\n",
            "For score 2\n",
            "[('movie', 6593), ('good', 4146), ('bad', 2845), ('film', 2602), ('great', 2404), ('boring', 2165), ('disappointing', 1813), ('just', 1756), ('like', 1716), ('better', 1702), ('don', 1415), ('story', 1334), ('dvd', 1276), ('stars', 1255), ('time', 1226), ('really', 1151), ('poor', 1134), ('best', 953), ('ok', 920), ('funny', 843), ('watch', 824), ('waste', 792), ('review', 786), ('worst', 733), ('worth', 727), ('didn', 726), ('plot', 709), ('little', 701), ('disappointed', 697), ('slow', 677), ('love', 659), ('acting', 650), ('disappointment', 629), ('quot', 619), ('way', 615), ('series', 613), ('pretty', 590), ('original', 579), ('terrible', 579), ('interesting', 574), ('movies', 573), ('did', 563), ('comedy', 561), ('quality', 561), ('big', 557), ('money', 545), ('horror', 544), ('ray', 527), ('book', 524), ('weak', 521), ('blu', 516), ('action', 505), ('dull', 496), ('version', 488), ('long', 485), ('expected', 476), ('star', 471), ('doesn', 468), ('make', 456), ('ve', 454), ('old', 454), ('stupid', 453), ('predictable', 442), ('okay', 433), ('lame', 433), ('overrated', 425), ('mediocre', 422), ('oh', 416), ('fun', 409), ('horrible', 406), ('season', 403), ('seen', 399), ('special', 399), ('awful', 397), ('hard', 389), ('new', 389), ('script', 387), ('sequel', 384), ('silly', 383), ('say', 380), ('man', 377), ('classic', 372), ('ending', 366), ('real', 356), ('flick', 355), ('average', 352), ('let', 346), ('save', 345), ('cast', 343), ('fans', 341), ('watching', 341), ('buy', 339), ('dumb', 338), ('people', 333), ('does', 330), ('end', 330), ('remake', 329), ('potential', 327), ('idea', 319), ('effects', 316)]\n",
            "For score 3\n",
            "[('good', 15328), ('movie', 13897), ('great', 7759), ('film', 5597), ('ok', 5246), ('bad', 5161), ('better', 4858), ('fun', 3404), ('story', 3250), ('just', 3132), ('okay', 3113), ('stars', 3109), ('dvd', 2810), ('like', 2588), ('best', 2521), ('interesting', 2494), ('entertaining', 2374), ('funny', 2275), ('little', 2137), ('decent', 1978), ('worth', 1930), ('love', 1764), ('action', 1759), ('review', 1755), ('pretty', 1743), ('watch', 1733), ('time', 1613), ('really', 1584), ('comedy', 1575), ('don', 1518), ('series', 1477), ('average', 1443), ('classic', 1407), ('season', 1365), ('flick', 1313), ('horror', 1309), ('disappointing', 1307), ('expected', 1281), ('nice', 1264), ('ray', 1261), ('quot', 1239), ('blu', 1223), ('original', 1218), ('bit', 1168), ('movies', 1153), ('old', 1141), ('acting', 1128), ('plot', 1096), ('slow', 1054), ('cute', 1049), ('book', 989), ('star', 976), ('quality', 972), ('version', 969), ('new', 956), ('enjoyable', 953), ('poor', 909), ('way', 892), ('fans', 888), ('thriller', 888), ('special', 886), ('quite', 867), ('long', 860), ('man', 843), ('ending', 802), ('watching', 790), ('mediocre', 769), ('didn', 766), ('ve', 765), ('predictable', 752), ('kids', 735), ('half', 722), ('big', 718), ('hard', 718), ('different', 715), ('say', 713), ('drama', 712), ('boring', 704), ('make', 694), ('doesn', 694), ('life', 688), ('cast', 682), ('family', 674), ('end', 672), ('sequel', 669), ('look', 661), ('thought', 659), ('set', 655), ('disappointed', 651), ('did', 648), ('liked', 648), ('short', 646), ('mixed', 644), ('sci', 634), ('war', 630), ('fi', 630), ('video', 627), ('real', 620), ('dark', 606), ('seen', 606)]\n",
            "For score 4\n",
            "[('good', 37325), ('movie', 32713), ('great', 23861), ('film', 12920), ('fun', 10719), ('better', 6852), ('story', 6798), ('best', 6396), ('classic', 6356), ('funny', 6152), ('dvd', 6111), ('love', 5454), ('like', 4986), ('entertaining', 4792), ('action', 4432), ('series', 4286), ('stars', 4152), ('bad', 3972), ('excellent', 3771), ('interesting', 3680), ('time', 3659), ('comedy', 3627), ('season', 3600), ('worth', 3488), ('pretty', 3391), ('nice', 3149), ('just', 3123), ('review', 3109), ('little', 2988), ('horror', 2988), ('enjoyable', 2980), ('really', 2898), ('watch', 2888), ('family', 2880), ('flick', 2814), ('movies', 2783), ('thriller', 2706), ('ray', 2601), ('blu', 2576), ('old', 2518), ('quot', 2435), ('don', 2344), ('life', 2222), ('drama', 2215), ('cute', 2188), ('new', 2187), ('original', 2072), ('liked', 1925), ('man', 1920), ('star', 1853), ('war', 1774), ('solid', 1664), ('expected', 1664), ('way', 1635), ('version', 1630), ('different', 1616), ('fi', 1616), ('set', 1603), ('sci', 1602), ('wonderful', 1587), ('surprisingly', 1556), ('collection', 1548), ('fans', 1543), ('real', 1537), ('acting', 1535), ('book', 1533), ('decent', 1495), ('true', 1480), ('beautiful', 1459), ('dark', 1458), ('look', 1445), ('watching', 1434), ('films', 1382), ('kids', 1328), ('sequel', 1325), ('western', 1302), ('tv', 1284), ('tale', 1283), ('entertainment', 1282), ('perfect', 1274), ('big', 1254), ('quite', 1247), ('quality', 1243), ('thought', 1239), ('cool', 1235), ('bit', 1222), ('history', 1208), ('awesome', 1197), ('workout', 1189), ('world', 1186), ('enjoyed', 1184), ('loved', 1173), ('fine', 1168), ('cast', 1153), ('ok', 1134), ('make', 1134), ('fan', 1113), ('long', 1110), ('plot', 1096), ('end', 1091)]\n",
            "For score 5\n",
            "[('great', 87534), ('movie', 85084), ('best', 40037), ('love', 32662), ('good', 31182), ('film', 25605), ('classic', 23738), ('dvd', 19711), ('series', 18312), ('excellent', 17451), ('season', 14735), ('fun', 13560), ('story', 12584), ('time', 12435), ('funny', 11947), ('awesome', 11789), ('movies', 10996), ('wonderful', 10376), ('better', 9112), ('favorite', 8919), ('stars', 8026), ('like', 7770), ('loved', 7617), ('just', 7532), ('family', 6994), ('ray', 6783), ('amazing', 6741), ('comedy', 6556), ('blu', 6543), ('watch', 6098), ('action', 5906), ('tv', 5895), ('fantastic', 5768), ('collection', 5670), ('review', 5487), ('really', 5297), ('beautiful', 5294), ('old', 5215), ('life', 4900), ('masterpiece', 4888), ('set', 4870), ('true', 4744), ('don', 4730), ('new', 4713), ('films', 4630), ('horror', 4612), ('quot', 4610), ('man', 4588), ('christmas', 4510), ('worth', 4458), ('brilliant', 4358), ('wow', 4324), ('perfect', 4247), ('entertaining', 4110), ('greatest', 3990), ('star', 3981), ('finally', 3980), ('hilarious', 3903), ('fan', 3894), ('real', 3708), ('drama', 3627), ('seen', 3618), ('war', 3615), ('way', 3550), ('original', 3494), ('version', 3294), ('buy', 3276), ('outstanding', 3190), ('little', 3085), ('ve', 3041), ('years', 2951), ('fans', 2897), ('flick', 2889), ('nice', 2884), ('fi', 2832), ('complete', 2804), ('sci', 2795), ('world', 2778), ('superb', 2722), ('thriller', 2720), ('history', 2702), ('video', 2657), ('workout', 2644), ('disney', 2612), ('kids', 2595), ('entertainment', 2575), ('gift', 2553), ('bad', 2540), ('western', 2524), ('big', 2507), ('heart', 2492), ('edition', 2431), ('acting', 2418), ('music', 2400), ('long', 2378), ('enjoyable', 2369), ('cute', 2365), ('quality', 2355), ('day', 2341), ('book', 2321)]\n"
          ],
          "name": "stdout"
        }
      ]
    },
    {
      "cell_type": "code",
      "metadata": {
        "colab": {
          "base_uri": "https://localhost:8080/"
        },
        "id": "E3_uWog8G_tC",
        "outputId": "cbfea4b0-74c5-4dfc-c15e-64f7450c1373"
      },
      "source": [
        "print('1:')\r\n",
        "score1_100_words = [w for w, count in most_frequent_words[0]]\r\n",
        "print(score1_100_words)\r\n",
        "print('2:')\r\n",
        "score2_100_words = [w for w, count in most_frequent_words[1]]\r\n",
        "print(score2_100_words)\r\n",
        "print('3:')\r\n",
        "score3_100_words = [w for w, count in most_frequent_words[2]]\r\n",
        "print(score3_100_words)\r\n",
        "print('4:')\r\n",
        "score4_100_words = [w for w, count in most_frequent_words[3]]\r\n",
        "print(score4_100_words)\r\n",
        "print('5:')\r\n",
        "score5_100_words = [w for w, count in most_frequent_words[4]]\r\n",
        "print(score5_100_words)"
      ],
      "execution_count": 32,
      "outputs": [
        {
          "output_type": "stream",
          "text": [
            "1:\n",
            "['movie', 'bad', 'worst', 'boring', 'waste', 'time', 'film', 'don', 'good', 'terrible', 'horrible', 'awful', 'dvd', 'just', 'like', 'money', 'really', 'star', 'great', 'stars', 'stupid', 'movies', 'watch', 'poor', 'seen', 'garbage', 'buy', 'disappointing', 'did', 've', 'worth', 'funny', 'better', 'review', 'ray', 'version', 'crap', 'blu', 'story', 'horror', 'quality', 'make', 'way', 'love', 'oh', 'series', 'disappointment', 'lame', 'zero', 'didn', 'big', 'worse', 'disappointed', 'acting', 'quot', 'watching', 'sucks', 'save', 'dumb', 'trash', 'original', 'people', 'beware', 'best', 'real', 'season', 'hollywood', 'plot', 'release', 'want', 'hate', 'say', 'bother', 'wrong', 'total', 'does', 'wow', 'book', 'complete', 'comedy', 'minutes', 'mess', 'films', 'new', 'dull', 'life', 'avoid', 'old', 'absolutely', 'video', 'doesn', 'sad', 'let', 'slow', 'got', 'away', 'pointless', 'rip', 'couldn', 'man']\n",
            "2:\n",
            "['movie', 'good', 'bad', 'film', 'great', 'boring', 'disappointing', 'just', 'like', 'better', 'don', 'story', 'dvd', 'stars', 'time', 'really', 'poor', 'best', 'ok', 'funny', 'watch', 'waste', 'review', 'worst', 'worth', 'didn', 'plot', 'little', 'disappointed', 'slow', 'love', 'acting', 'disappointment', 'quot', 'way', 'series', 'pretty', 'original', 'terrible', 'interesting', 'movies', 'did', 'comedy', 'quality', 'big', 'money', 'horror', 'ray', 'book', 'weak', 'blu', 'action', 'dull', 'version', 'long', 'expected', 'star', 'doesn', 'make', 've', 'old', 'stupid', 'predictable', 'okay', 'lame', 'overrated', 'mediocre', 'oh', 'fun', 'horrible', 'season', 'seen', 'special', 'awful', 'hard', 'new', 'script', 'sequel', 'silly', 'say', 'man', 'classic', 'ending', 'real', 'flick', 'average', 'let', 'save', 'cast', 'fans', 'watching', 'buy', 'dumb', 'people', 'does', 'end', 'remake', 'potential', 'idea', 'effects']\n",
            "3:\n",
            "['good', 'movie', 'great', 'film', 'ok', 'bad', 'better', 'fun', 'story', 'just', 'okay', 'stars', 'dvd', 'like', 'best', 'interesting', 'entertaining', 'funny', 'little', 'decent', 'worth', 'love', 'action', 'review', 'pretty', 'watch', 'time', 'really', 'comedy', 'don', 'series', 'average', 'classic', 'season', 'flick', 'horror', 'disappointing', 'expected', 'nice', 'ray', 'quot', 'blu', 'original', 'bit', 'movies', 'old', 'acting', 'plot', 'slow', 'cute', 'book', 'star', 'quality', 'version', 'new', 'enjoyable', 'poor', 'way', 'fans', 'thriller', 'special', 'quite', 'long', 'man', 'ending', 'watching', 'mediocre', 'didn', 've', 'predictable', 'kids', 'half', 'big', 'hard', 'different', 'say', 'drama', 'boring', 'make', 'doesn', 'life', 'cast', 'family', 'end', 'sequel', 'look', 'thought', 'set', 'disappointed', 'did', 'liked', 'short', 'mixed', 'sci', 'war', 'fi', 'video', 'real', 'dark', 'seen']\n",
            "4:\n",
            "['good', 'movie', 'great', 'film', 'fun', 'better', 'story', 'best', 'classic', 'funny', 'dvd', 'love', 'like', 'entertaining', 'action', 'series', 'stars', 'bad', 'excellent', 'interesting', 'time', 'comedy', 'season', 'worth', 'pretty', 'nice', 'just', 'review', 'little', 'horror', 'enjoyable', 'really', 'watch', 'family', 'flick', 'movies', 'thriller', 'ray', 'blu', 'old', 'quot', 'don', 'life', 'drama', 'cute', 'new', 'original', 'liked', 'man', 'star', 'war', 'solid', 'expected', 'way', 'version', 'different', 'fi', 'set', 'sci', 'wonderful', 'surprisingly', 'collection', 'fans', 'real', 'acting', 'book', 'decent', 'true', 'beautiful', 'dark', 'look', 'watching', 'films', 'kids', 'sequel', 'western', 'tv', 'tale', 'entertainment', 'perfect', 'big', 'quite', 'quality', 'thought', 'cool', 'bit', 'history', 'awesome', 'workout', 'world', 'enjoyed', 'loved', 'fine', 'cast', 'ok', 'make', 'fan', 'long', 'plot', 'end']\n",
            "5:\n",
            "['great', 'movie', 'best', 'love', 'good', 'film', 'classic', 'dvd', 'series', 'excellent', 'season', 'fun', 'story', 'time', 'funny', 'awesome', 'movies', 'wonderful', 'better', 'favorite', 'stars', 'like', 'loved', 'just', 'family', 'ray', 'amazing', 'comedy', 'blu', 'watch', 'action', 'tv', 'fantastic', 'collection', 'review', 'really', 'beautiful', 'old', 'life', 'masterpiece', 'set', 'true', 'don', 'new', 'films', 'horror', 'quot', 'man', 'christmas', 'worth', 'brilliant', 'wow', 'perfect', 'entertaining', 'greatest', 'star', 'finally', 'hilarious', 'fan', 'real', 'drama', 'seen', 'war', 'way', 'original', 'version', 'buy', 'outstanding', 'little', 've', 'years', 'fans', 'flick', 'nice', 'fi', 'complete', 'sci', 'world', 'superb', 'thriller', 'history', 'video', 'workout', 'disney', 'kids', 'entertainment', 'gift', 'bad', 'western', 'big', 'heart', 'edition', 'acting', 'music', 'long', 'enjoyable', 'cute', 'quality', 'day', 'book']\n"
          ],
          "name": "stdout"
        }
      ]
    },
    {
      "cell_type": "code",
      "metadata": {
        "colab": {
          "base_uri": "https://localhost:8080/"
        },
        "id": "Xcwuu4rAG_46",
        "outputId": "52f11254-4754-4b14-8163-1709c7fb8a79"
      },
      "source": [
        "# unique words\r\n",
        "print('1:')\r\n",
        "uniques1_summary = [w for w in score1_100_words if (w not in score2_100_words and w not in score3_100_words and w not in score4_100_words and w not in score5_100_words )]\r\n",
        "print(uniques1_summary)\r\n",
        "print('2:')\r\n",
        "uniques2_summary = [w for w in score2_100_words if (w not in score1_100_words and w not in score3_100_words and w not in score4_100_words and w not in score5_100_words )]\r\n",
        "print(uniques2_summary)\r\n",
        "print('3:')\r\n",
        "uniques3_summary = [w for w in score3_100_words if (w not in score2_100_words and w not in score1_100_words and w not in score4_100_words and w not in score5_100_words )]\r\n",
        "print(uniques3_summary)\r\n",
        "print('4:')\r\n",
        "uniques4_summary = [w for w in score4_100_words if (w not in score2_100_words and w not in score3_100_words and w not in score1_100_words and w not in score5_100_words )]\r\n",
        "print(uniques4_summary)\r\n",
        "print('5:')\r\n",
        "uniques5_summary = [w for w in score5_100_words if (w not in score2_100_words and w not in score3_100_words and w not in score4_100_words and w not in score1_100_words )]\r\n",
        "print(uniques5_summary)"
      ],
      "execution_count": 33,
      "outputs": [
        {
          "output_type": "stream",
          "text": [
            "1:\n",
            "['garbage', 'crap', 'zero', 'worse', 'sucks', 'trash', 'beware', 'hollywood', 'release', 'want', 'hate', 'bother', 'wrong', 'total', 'minutes', 'mess', 'avoid', 'absolutely', 'sad', 'got', 'away', 'pointless', 'rip', 'couldn']\n",
            "2:\n",
            "['weak', 'overrated', 'script', 'silly', 'remake', 'potential', 'idea', 'effects']\n",
            "3:\n",
            "['half', 'short', 'mixed']\n",
            "4:\n",
            "['solid', 'surprisingly', 'tale', 'cool', 'enjoyed', 'fine']\n",
            "5:\n",
            "['favorite', 'amazing', 'fantastic', 'masterpiece', 'christmas', 'brilliant', 'greatest', 'finally', 'hilarious', 'outstanding', 'years', 'superb', 'disney', 'gift', 'heart', 'edition', 'music', 'day']\n"
          ],
          "name": "stdout"
        }
      ]
    },
    {
      "cell_type": "code",
      "metadata": {
        "id": "OaZWZCA4UrN7"
      },
      "source": [
        "uniques_summary = [uniques1_summary, uniques2_summary, uniques3_summary, uniques4_summary, uniques5_summary]"
      ],
      "execution_count": 34,
      "outputs": []
    },
    {
      "cell_type": "code",
      "metadata": {
        "id": "1t1fWETSUrba"
      },
      "source": [
        ""
      ],
      "execution_count": null,
      "outputs": []
    },
    {
      "cell_type": "code",
      "metadata": {
        "colab": {
          "base_uri": "https://localhost:8080/"
        },
        "id": "QqTHLtVDUrlq",
        "outputId": "ea7b1f25-15bd-43f1-b7aa-51761f216ade"
      },
      "source": [
        "most_frequent_words_text = []\r\n",
        "current_score = 1\r\n",
        "for document_text in documents_text:\r\n",
        "  vectorizer_test = CountVectorizer(stop_words='english')\r\n",
        "  words_test = vectorizer_test.fit_transform(document_text.split('.'))\r\n",
        "  words_bag = vectorizer_test.transform(document_text.split('.'))\r\n",
        "  sum_words = words_bag.sum(axis=0)\r\n",
        "  words_freq = [(word, sum_words[0, idx]) for word, idx in vectorizer_test.vocabulary_.items()]\r\n",
        "  words_freq = sorted(words_freq, key = lambda x: x[1], reverse=True)\r\n",
        "  print(\"For score \" + str(current_score))\r\n",
        "  print(words_freq[:200])\r\n",
        "  current_score += 1\r\n",
        "  most_frequent_words_text.append(words_freq[:200])"
      ],
      "execution_count": 24,
      "outputs": [
        {
          "output_type": "stream",
          "text": [
            "For score 1\n",
            "[('movie', 8988), ('bad', 4636), ('worst', 3077), ('boring', 2598), ('waste', 2527), ('time', 2495), ('film', 2467), ('don', 2334), ('good', 1973), ('terrible', 1955), ('horrible', 1917), ('awful', 1917), ('dvd', 1836), ('just', 1731), ('like', 1504), ('money', 1484), ('really', 1326), ('star', 1325), ('great', 1280), ('stars', 1094), ('stupid', 1082), ('movies', 1081), ('watch', 1036), ('poor', 956), ('seen', 853), ('garbage', 837), ('buy', 820), ('disappointing', 740), ('did', 696), ('ve', 692), ('worth', 683), ('funny', 656), ('better', 653), ('review', 643), ('ray', 639), ('version', 623), ('crap', 612), ('blu', 610), ('story', 609), ('horror', 599), ('quality', 599), ('make', 551), ('way', 550), ('love', 548), ('oh', 546), ('series', 546), ('disappointment', 534), ('lame', 515), ('zero', 512), ('didn', 509), ('big', 509), ('worse', 504), ('disappointed', 493), ('acting', 481), ('quot', 479), ('watching', 457), ('sucks', 455), ('save', 443), ('dumb', 440), ('trash', 439), ('original', 432), ('people', 423), ('beware', 412), ('best', 405), ('real', 402), ('season', 401), ('hollywood', 396), ('plot', 390), ('release', 389), ('want', 381), ('hate', 380), ('say', 378), ('bother', 371), ('wrong', 368), ('total', 367), ('does', 362), ('wow', 362), ('book', 361), ('complete', 360), ('comedy', 360), ('minutes', 357), ('mess', 353), ('films', 349), ('new', 349), ('dull', 346), ('life', 342), ('avoid', 341), ('old', 339), ('absolutely', 331), ('video', 330), ('doesn', 330), ('sad', 329), ('let', 329), ('slow', 323), ('got', 318), ('away', 316), ('pointless', 310), ('rip', 309), ('couldn', 300), ('man', 297), ('hated', 294), ('long', 294), ('low', 293), ('god', 290), ('play', 289), ('transfer', 289), ('thing', 287), ('think', 286), ('know', 282), ('classic', 281), ('warning', 276), ('tv', 275), ('remake', 274), ('plain', 273), ('read', 269), ('ugh', 267), ('dead', 266), ('amazon', 261), ('sorry', 260), ('end', 256), ('piece', 255), ('rating', 254), ('sequel', 254), ('dont', 252), ('wish', 252), ('ll', 252), ('hell', 249), ('set', 249), ('need', 249), ('pathetic', 248), ('junk', 246), ('right', 246), ('year', 245), ('believe', 244), ('stop', 243), ('reviews', 243), ('copy', 243), ('work', 242), ('instead', 240), ('overrated', 239), ('title', 239), ('disc', 239), ('pretty', 236), ('unwatchable', 235), ('fans', 234), ('little', 233), ('dreadful', 231), ('lost', 230), ('hard', 230), ('hours', 223), ('disaster', 223), ('action', 222), ('kidding', 221), ('special', 220), ('silly', 220), ('pure', 218), ('joke', 217), ('sucked', 217), ('ridiculous', 216), ('poorly', 216), ('picture', 215), ('shame', 213), ('flick', 213), ('skip', 213), ('wasted', 211), ('propaganda', 211), ('lousy', 210), ('edition', 210), ('makes', 207), ('thought', 207), ('far', 207), ('look', 205), ('history', 203), ('yawn', 202), ('fan', 201), ('kids', 200), ('cheap', 196), ('thinking', 193), ('idea', 191), ('disney', 190), ('dark', 190), ('script', 188), ('half', 188), ('totally', 184), ('ending', 183), ('cut', 183), ('truly', 182), ('absolute', 181), ('scary', 181), ('painful', 180), ('weak', 180), ('stinks', 180), ('10', 180), ('simply', 178), ('music', 177), ('happened', 177), ('finish', 176), ('depressing', 175), ('point', 174), ('wait', 174)]\n",
            "For score 2\n",
            "[('movie', 6593), ('good', 4146), ('bad', 2845), ('film', 2602), ('great', 2404), ('boring', 2165), ('disappointing', 1813), ('just', 1756), ('like', 1716), ('better', 1702), ('don', 1415), ('story', 1334), ('dvd', 1276), ('stars', 1255), ('time', 1226), ('really', 1151), ('poor', 1134), ('best', 953), ('ok', 920), ('funny', 843), ('watch', 824), ('waste', 792), ('review', 786), ('worst', 733), ('worth', 727), ('didn', 726), ('plot', 709), ('little', 701), ('disappointed', 697), ('slow', 677), ('love', 659), ('acting', 650), ('disappointment', 629), ('quot', 619), ('way', 615), ('series', 613), ('pretty', 590), ('original', 579), ('terrible', 579), ('interesting', 574), ('movies', 573), ('did', 563), ('comedy', 561), ('quality', 561), ('big', 557), ('money', 545), ('horror', 544), ('ray', 527), ('book', 524), ('weak', 521), ('blu', 516), ('action', 505), ('dull', 496), ('version', 488), ('long', 485), ('expected', 476), ('star', 471), ('doesn', 468), ('make', 456), ('ve', 454), ('old', 454), ('stupid', 453), ('predictable', 442), ('okay', 433), ('lame', 433), ('overrated', 425), ('mediocre', 422), ('oh', 416), ('fun', 409), ('horrible', 406), ('season', 403), ('seen', 399), ('special', 399), ('awful', 397), ('hard', 389), ('new', 389), ('script', 387), ('sequel', 384), ('silly', 383), ('say', 380), ('man', 377), ('classic', 372), ('ending', 366), ('real', 356), ('flick', 355), ('average', 352), ('let', 346), ('save', 345), ('cast', 343), ('fans', 341), ('watching', 341), ('buy', 339), ('dumb', 338), ('people', 333), ('does', 330), ('end', 330), ('remake', 329), ('potential', 327), ('idea', 319), ('effects', 316), ('entertaining', 311), ('fan', 311), ('mess', 308), ('video', 305), ('meh', 305), ('know', 303), ('think', 296), ('lost', 296), ('tv', 295), ('nice', 291), ('actors', 288), ('half', 286), ('thriller', 279), ('films', 278), ('low', 276), ('kids', 276), ('thing', 276), ('wrong', 273), ('far', 272), ('work', 270), ('hollywood', 264), ('transfer', 263), ('thought', 263), ('wanted', 260), ('got', 260), ('short', 258), ('quite', 257), ('sad', 254), ('kind', 253), ('wasted', 251), ('dead', 250), ('bit', 249), ('title', 248), ('life', 247), ('want', 244), ('minutes', 243), ('dark', 243), ('poorly', 241), ('scary', 241), ('sorry', 240), ('lot', 239), ('decent', 239), ('worse', 238), ('maybe', 236), ('right', 230), ('music', 229), ('read', 223), ('needs', 221), ('yawn', 221), ('drama', 218), ('weird', 218), ('need', 217), ('isn', 213), ('missed', 212), ('set', 212), ('look', 211), ('production', 211), ('wasn', 210), ('pointless', 210), ('depressing', 209), ('instead', 208), ('characters', 205), ('day', 205), ('couldn', 204), ('picture', 203), ('goes', 201), ('high', 201), ('premise', 201), ('point', 200), ('flat', 199), ('ll', 197), ('hype', 196), ('bother', 195), ('missing', 193), ('falls', 193), ('director', 192), ('beware', 192), ('gets', 190), ('scenes', 189), ('release', 189), ('world', 189), ('war', 189), ('happened', 188), ('typical', 187), ('going', 185), ('true', 183), ('sound', 183), ('effort', 182), ('budget', 182), ('beautiful', 181), ('meets', 180), ('cheesy', 179), ('skip', 178), ('strange', 178), ('confusing', 178), ('dated', 175), ('reviews', 175), ('night', 175), ('history', 174), ('blah', 174)]\n",
            "For score 3\n",
            "[('good', 15328), ('movie', 13897), ('great', 7759), ('film', 5597), ('ok', 5246), ('bad', 5161), ('better', 4858), ('fun', 3404), ('story', 3250), ('just', 3132), ('okay', 3113), ('stars', 3109), ('dvd', 2810), ('like', 2588), ('best', 2521), ('interesting', 2494), ('entertaining', 2374), ('funny', 2275), ('little', 2137), ('decent', 1978), ('worth', 1930), ('love', 1764), ('action', 1759), ('review', 1755), ('pretty', 1743), ('watch', 1733), ('time', 1613), ('really', 1584), ('comedy', 1575), ('don', 1518), ('series', 1477), ('average', 1443), ('classic', 1407), ('season', 1365), ('flick', 1313), ('horror', 1309), ('disappointing', 1307), ('expected', 1281), ('nice', 1264), ('ray', 1261), ('quot', 1239), ('blu', 1223), ('original', 1218), ('bit', 1168), ('movies', 1153), ('old', 1141), ('acting', 1128), ('plot', 1096), ('slow', 1054), ('cute', 1049), ('book', 989), ('star', 976), ('quality', 972), ('version', 969), ('new', 956), ('enjoyable', 953), ('poor', 909), ('way', 892), ('fans', 888), ('thriller', 888), ('special', 886), ('quite', 867), ('long', 860), ('man', 843), ('ending', 802), ('watching', 790), ('mediocre', 769), ('didn', 766), ('ve', 765), ('predictable', 752), ('kids', 735), ('half', 722), ('big', 718), ('hard', 718), ('different', 715), ('say', 713), ('drama', 712), ('boring', 704), ('make', 694), ('doesn', 694), ('life', 688), ('cast', 682), ('family', 674), ('end', 672), ('sequel', 669), ('look', 661), ('thought', 659), ('set', 655), ('disappointed', 651), ('did', 648), ('liked', 648), ('short', 646), ('mixed', 644), ('sci', 634), ('war', 630), ('fi', 630), ('video', 627), ('real', 620), ('dark', 606), ('seen', 606), ('silly', 603), ('flawed', 601), ('tv', 601), ('moments', 579), ('kind', 574), ('films', 569), ('day', 566), ('fan', 562), ('music', 562), ('does', 554), ('know', 552), ('weak', 552), ('think', 548), ('somewhat', 546), ('solid', 544), ('lot', 543), ('far', 521), ('people', 516), ('world', 516), ('work', 506), ('beautiful', 506), ('right', 503), ('excellent', 502), ('transfer', 497), ('meh', 497), ('effects', 497), ('remake', 494), ('scary', 485), ('typical', 485), ('collection', 479), ('entertainment', 471), ('gets', 470), ('tale', 468), ('strange', 467), ('low', 467), ('buy', 464), ('true', 461), ('want', 460), ('watchable', 457), ('got', 455), ('sure', 449), ('missing', 442), ('let', 441), ('history', 440), ('ll', 440), ('western', 440), ('potential', 437), ('lost', 436), ('worst', 432), ('makes', 429), ('performance', 427), ('live', 425), ('script', 424), ('meets', 421), ('needs', 421), ('release', 417), ('high', 416), ('idea', 412), ('night', 410), ('alright', 410), ('maybe', 409), ('cool', 407), ('eh', 404), ('style', 403), ('performances', 396), ('lots', 394), ('thing', 390), ('times', 388), ('actors', 387), ('effort', 385), ('uneven', 385), ('fine', 382), ('hollywood', 382), ('favorite', 381), ('dead', 379), ('need', 378), ('terrible', 374), ('romantic', 371), ('fair', 370), ('picture', 369), ('wrong', 367), ('expect', 366), ('light', 362), ('oh', 358), ('going', 358), ('edition', 357), ('characters', 357), ('second', 356), ('isn', 353), ('production', 351), ('weird', 350), ('dated', 349), ('wasn', 349), ('read', 347), ('budget', 346), ('start', 343), ('price', 341), ('wanted', 339), ('scenes', 338), ('christmas', 337)]\n",
            "For score 4\n",
            "[('good', 37325), ('movie', 32713), ('great', 23861), ('film', 12920), ('fun', 10719), ('better', 6852), ('story', 6798), ('best', 6396), ('classic', 6356), ('funny', 6152), ('dvd', 6111), ('love', 5454), ('like', 4986), ('entertaining', 4792), ('action', 4432), ('series', 4286), ('stars', 4152), ('bad', 3972), ('excellent', 3771), ('interesting', 3680), ('time', 3659), ('comedy', 3627), ('season', 3600), ('worth', 3488), ('pretty', 3391), ('nice', 3149), ('just', 3123), ('review', 3109), ('little', 2988), ('horror', 2988), ('enjoyable', 2980), ('really', 2898), ('watch', 2888), ('family', 2880), ('flick', 2814), ('movies', 2783), ('thriller', 2706), ('ray', 2601), ('blu', 2576), ('old', 2518), ('quot', 2435), ('don', 2344), ('life', 2222), ('drama', 2215), ('cute', 2188), ('new', 2187), ('original', 2072), ('liked', 1925), ('man', 1920), ('star', 1853), ('war', 1774), ('solid', 1664), ('expected', 1664), ('way', 1635), ('version', 1630), ('different', 1616), ('fi', 1616), ('set', 1603), ('sci', 1602), ('wonderful', 1587), ('surprisingly', 1556), ('collection', 1548), ('fans', 1543), ('real', 1537), ('acting', 1535), ('book', 1533), ('decent', 1495), ('true', 1480), ('beautiful', 1459), ('dark', 1458), ('look', 1445), ('watching', 1434), ('films', 1382), ('kids', 1328), ('sequel', 1325), ('western', 1302), ('tv', 1284), ('tale', 1283), ('entertainment', 1282), ('perfect', 1274), ('big', 1254), ('quite', 1247), ('quality', 1243), ('thought', 1239), ('cool', 1235), ('bit', 1222), ('history', 1208), ('awesome', 1197), ('workout', 1189), ('world', 1186), ('enjoyed', 1184), ('loved', 1173), ('fine', 1168), ('cast', 1153), ('ok', 1134), ('make', 1134), ('fan', 1113), ('long', 1110), ('plot', 1096), ('end', 1091), ('sweet', 1086), ('day', 1084), ('ending', 1082), ('favorite', 1062), ('does', 1059), ('people', 1055), ('scary', 1033), ('adventure', 1015), ('hilarious', 1014), ('romantic', 1004), ('christmas', 1002), ('know', 1002), ('performance', 989), ('special', 979), ('finally', 972), ('think', 952), ('music', 952), ('ve', 950), ('heart', 949), ('years', 940), ('say', 935), ('makes', 931), ('gets', 920), ('video', 917), ('hard', 916), ('surprise', 915), ('right', 899), ('ll', 895), ('lot', 887), ('high', 873), ('night', 869), ('amazing', 861), ('want', 854), ('got', 853), ('mystery', 846), ('performances', 841), ('release', 827), ('price', 826), ('seen', 811), ('disney', 809), ('second', 808), ('did', 798), ('adaptation', 797), ('john', 790), ('work', 787), ('remake', 781), ('charming', 780), ('bond', 778), ('noir', 773), ('gem', 772), ('creepy', 769), ('slow', 765), ('american', 764), ('kind', 762), ('edition', 755), ('stuff', 753), ('documentary', 749), ('enjoy', 747), ('lots', 747), ('live', 740), ('short', 739), ('romance', 737), ('underrated', 727), ('black', 723), ('early', 720), ('fantastic', 718), ('style', 709), ('buy', 704), ('epic', 703), ('light', 696), ('twist', 695), ('times', 694), ('brilliant', 686), ('meets', 686), ('extras', 684), ('age', 680), ('modern', 677), ('strong', 675), ('suspense', 665), ('fantasy', 665), ('wow', 663), ('ride', 661), ('picture', 658), ('dead', 656), ('come', 655), ('start', 654), ('far', 653), ('powerful', 652), ('year', 651), ('moving', 648), ('king', 645), ('feel', 641), ('effects', 641), ('worthy', 640), ('sad', 637), ('flawed', 636), ('anime', 636), ('need', 629), ('musical', 627), ('yes', 626)]\n",
            "For score 5\n",
            "[('great', 87534), ('movie', 85084), ('best', 40037), ('love', 32662), ('good', 31182), ('film', 25605), ('classic', 23738), ('dvd', 19711), ('series', 18312), ('excellent', 17451), ('season', 14735), ('fun', 13560), ('story', 12584), ('time', 12435), ('funny', 11947), ('awesome', 11789), ('movies', 10996), ('wonderful', 10376), ('better', 9112), ('favorite', 8919), ('stars', 8026), ('like', 7770), ('loved', 7617), ('just', 7532), ('family', 6994), ('ray', 6783), ('amazing', 6741), ('comedy', 6556), ('blu', 6543), ('watch', 6098), ('action', 5906), ('tv', 5895), ('fantastic', 5768), ('collection', 5670), ('review', 5487), ('really', 5297), ('beautiful', 5294), ('old', 5215), ('life', 4900), ('masterpiece', 4888), ('set', 4870), ('true', 4744), ('don', 4730), ('new', 4713), ('films', 4630), ('horror', 4612), ('quot', 4610), ('man', 4588), ('christmas', 4510), ('worth', 4458), ('brilliant', 4358), ('wow', 4324), ('perfect', 4247), ('entertaining', 4110), ('greatest', 3990), ('star', 3981), ('finally', 3980), ('hilarious', 3903), ('fan', 3894), ('real', 3708), ('drama', 3627), ('seen', 3618), ('war', 3615), ('way', 3550), ('original', 3494), ('version', 3294), ('buy', 3276), ('outstanding', 3190), ('little', 3085), ('ve', 3041), ('years', 2951), ('fans', 2897), ('flick', 2889), ('nice', 2884), ('fi', 2832), ('complete', 2804), ('sci', 2795), ('world', 2778), ('superb', 2722), ('thriller', 2720), ('history', 2702), ('video', 2657), ('workout', 2644), ('disney', 2612), ('kids', 2595), ('entertainment', 2575), ('gift', 2553), ('bad', 2540), ('western', 2524), ('big', 2507), ('heart', 2492), ('edition', 2431), ('acting', 2418), ('music', 2400), ('long', 2378), ('enjoyable', 2369), ('cute', 2365), ('quality', 2355), ('day', 2341), ('book', 2321), ('dark', 2317), ('absolutely', 2314), ('year', 2271), ('say', 2262), ('make', 2254), ('interesting', 2139), ('shows', 2136), ('watching', 2136), ('american', 2121), ('price', 2082), ('want', 2075), ('john', 2062), ('does', 2059), ('gem', 2039), ('powerful', 2029), ('epic', 1998), ('ll', 1997), ('anime', 1996), ('end', 1989), ('got', 1985), ('performance', 1982), ('release', 1955), ('gets', 1937), ('look', 1936), ('right', 1935), ('super', 1927), ('cool', 1916), ('adventure', 1913), ('tale', 1911), ('know', 1884), ('people', 1876), ('simply', 1853), ('yes', 1851), ('sweet', 1841), ('incredible', 1840), ('live', 1829), ('romantic', 1796), ('special', 1789), ('documentary', 1783), ('truly', 1781), ('king', 1780), ('terrific', 1774), ('come', 1766), ('oh', 1761), ('work', 1734), ('second', 1716), ('favorites', 1713), ('cast', 1709), ('far', 1686), ('high', 1673), ('rocks', 1644), ('scary', 1634), ('moving', 1633), ('need', 1624), ('thought', 1621), ('makes', 1603), ('night', 1600), ('bond', 1595), ('musical', 1590), ('happy', 1586), ('mystery', 1576), ('did', 1558), ('different', 1553), ('sequel', 1531), ('wait', 1525), ('trek', 1515), ('think', 1506), ('miss', 1500), ('enjoyed', 1484), ('fabulous', 1482), ('hard', 1475), ('seasons', 1474), ('black', 1458), ('10', 1457), ('times', 1451), ('funniest', 1451), ('british', 1431), ('men', 1428), ('loves', 1423), ('television', 1423), ('laugh', 1422), ('stunning', 1420), ('highly', 1414), ('rock', 1401), ('memories', 1383), ('fine', 1382), ('touching', 1380), ('finest', 1374), ('modern', 1373), ('delightful', 1370), ('house', 1363), ('picture', 1337), ('concert', 1337), ('enjoy', 1334), ('home', 1329), ('lost', 1310), ('stuff', 1272), ('romance', 1252), ('surprise', 1252), ('feel', 1248)]\n"
          ],
          "name": "stdout"
        }
      ]
    },
    {
      "cell_type": "code",
      "metadata": {
        "colab": {
          "base_uri": "https://localhost:8080/"
        },
        "id": "aGGRL65yZX8R",
        "outputId": "071014a8-b3f8-47e2-e9e1-0f2c59a06b50"
      },
      "source": [
        "print('1:')\r\n",
        "score1_200_words = [w for w, count in most_frequent_words_text[0]]\r\n",
        "print(score1_200_words)\r\n",
        "print('2:')\r\n",
        "score2_200_words = [w for w, count in most_frequent_words_text[1]]\r\n",
        "print(score2_200_words)\r\n",
        "print('3:')\r\n",
        "score3_200_words = [w for w, count in most_frequent_words_text[2]]\r\n",
        "print(score3_200_words)\r\n",
        "print('4:')\r\n",
        "score4_200_words = [w for w, count in most_frequent_words_text[3]]\r\n",
        "print(score4_200_words)\r\n",
        "print('5:')\r\n",
        "score5_200_words = [w for w, count in most_frequent_words_text[4]]\r\n",
        "print(score5_200_words)"
      ],
      "execution_count": 36,
      "outputs": [
        {
          "output_type": "stream",
          "text": [
            "1:\n",
            "['movie', 'bad', 'worst', 'boring', 'waste', 'time', 'film', 'don', 'good', 'terrible', 'horrible', 'awful', 'dvd', 'just', 'like', 'money', 'really', 'star', 'great', 'stars', 'stupid', 'movies', 'watch', 'poor', 'seen', 'garbage', 'buy', 'disappointing', 'did', 've', 'worth', 'funny', 'better', 'review', 'ray', 'version', 'crap', 'blu', 'story', 'horror', 'quality', 'make', 'way', 'love', 'oh', 'series', 'disappointment', 'lame', 'zero', 'didn', 'big', 'worse', 'disappointed', 'acting', 'quot', 'watching', 'sucks', 'save', 'dumb', 'trash', 'original', 'people', 'beware', 'best', 'real', 'season', 'hollywood', 'plot', 'release', 'want', 'hate', 'say', 'bother', 'wrong', 'total', 'does', 'wow', 'book', 'complete', 'comedy', 'minutes', 'mess', 'films', 'new', 'dull', 'life', 'avoid', 'old', 'absolutely', 'video', 'doesn', 'sad', 'let', 'slow', 'got', 'away', 'pointless', 'rip', 'couldn', 'man', 'hated', 'long', 'low', 'god', 'play', 'transfer', 'thing', 'think', 'know', 'classic', 'warning', 'tv', 'remake', 'plain', 'read', 'ugh', 'dead', 'amazon', 'sorry', 'end', 'piece', 'rating', 'sequel', 'dont', 'wish', 'll', 'hell', 'set', 'need', 'pathetic', 'junk', 'right', 'year', 'believe', 'stop', 'reviews', 'copy', 'work', 'instead', 'overrated', 'title', 'disc', 'pretty', 'unwatchable', 'fans', 'little', 'dreadful', 'lost', 'hard', 'hours', 'disaster', 'action', 'kidding', 'special', 'silly', 'pure', 'joke', 'sucked', 'ridiculous', 'poorly', 'picture', 'shame', 'flick', 'skip', 'wasted', 'propaganda', 'lousy', 'edition', 'makes', 'thought', 'far', 'look', 'history', 'yawn', 'fan', 'kids', 'cheap', 'thinking', 'idea', 'disney', 'dark', 'script', 'half', 'totally', 'ending', 'cut', 'truly', 'absolute', 'scary', 'painful', 'weak', 'stinks', '10', 'simply', 'music', 'happened', 'finish', 'depressing', 'point', 'wait']\n",
            "2:\n",
            "['movie', 'good', 'bad', 'film', 'great', 'boring', 'disappointing', 'just', 'like', 'better', 'don', 'story', 'dvd', 'stars', 'time', 'really', 'poor', 'best', 'ok', 'funny', 'watch', 'waste', 'review', 'worst', 'worth', 'didn', 'plot', 'little', 'disappointed', 'slow', 'love', 'acting', 'disappointment', 'quot', 'way', 'series', 'pretty', 'original', 'terrible', 'interesting', 'movies', 'did', 'comedy', 'quality', 'big', 'money', 'horror', 'ray', 'book', 'weak', 'blu', 'action', 'dull', 'version', 'long', 'expected', 'star', 'doesn', 'make', 've', 'old', 'stupid', 'predictable', 'okay', 'lame', 'overrated', 'mediocre', 'oh', 'fun', 'horrible', 'season', 'seen', 'special', 'awful', 'hard', 'new', 'script', 'sequel', 'silly', 'say', 'man', 'classic', 'ending', 'real', 'flick', 'average', 'let', 'save', 'cast', 'fans', 'watching', 'buy', 'dumb', 'people', 'does', 'end', 'remake', 'potential', 'idea', 'effects', 'entertaining', 'fan', 'mess', 'video', 'meh', 'know', 'think', 'lost', 'tv', 'nice', 'actors', 'half', 'thriller', 'films', 'low', 'kids', 'thing', 'wrong', 'far', 'work', 'hollywood', 'transfer', 'thought', 'wanted', 'got', 'short', 'quite', 'sad', 'kind', 'wasted', 'dead', 'bit', 'title', 'life', 'want', 'minutes', 'dark', 'poorly', 'scary', 'sorry', 'lot', 'decent', 'worse', 'maybe', 'right', 'music', 'read', 'needs', 'yawn', 'drama', 'weird', 'need', 'isn', 'missed', 'set', 'look', 'production', 'wasn', 'pointless', 'depressing', 'instead', 'characters', 'day', 'couldn', 'picture', 'goes', 'high', 'premise', 'point', 'flat', 'll', 'hype', 'bother', 'missing', 'falls', 'director', 'beware', 'gets', 'scenes', 'release', 'world', 'war', 'happened', 'typical', 'going', 'true', 'sound', 'effort', 'budget', 'beautiful', 'meets', 'cheesy', 'skip', 'strange', 'confusing', 'dated', 'reviews', 'night', 'history', 'blah']\n",
            "3:\n",
            "['good', 'movie', 'great', 'film', 'ok', 'bad', 'better', 'fun', 'story', 'just', 'okay', 'stars', 'dvd', 'like', 'best', 'interesting', 'entertaining', 'funny', 'little', 'decent', 'worth', 'love', 'action', 'review', 'pretty', 'watch', 'time', 'really', 'comedy', 'don', 'series', 'average', 'classic', 'season', 'flick', 'horror', 'disappointing', 'expected', 'nice', 'ray', 'quot', 'blu', 'original', 'bit', 'movies', 'old', 'acting', 'plot', 'slow', 'cute', 'book', 'star', 'quality', 'version', 'new', 'enjoyable', 'poor', 'way', 'fans', 'thriller', 'special', 'quite', 'long', 'man', 'ending', 'watching', 'mediocre', 'didn', 've', 'predictable', 'kids', 'half', 'big', 'hard', 'different', 'say', 'drama', 'boring', 'make', 'doesn', 'life', 'cast', 'family', 'end', 'sequel', 'look', 'thought', 'set', 'disappointed', 'did', 'liked', 'short', 'mixed', 'sci', 'war', 'fi', 'video', 'real', 'dark', 'seen', 'silly', 'flawed', 'tv', 'moments', 'kind', 'films', 'day', 'fan', 'music', 'does', 'know', 'weak', 'think', 'somewhat', 'solid', 'lot', 'far', 'people', 'world', 'work', 'beautiful', 'right', 'excellent', 'transfer', 'meh', 'effects', 'remake', 'scary', 'typical', 'collection', 'entertainment', 'gets', 'tale', 'strange', 'low', 'buy', 'true', 'want', 'watchable', 'got', 'sure', 'missing', 'let', 'history', 'll', 'western', 'potential', 'lost', 'worst', 'makes', 'performance', 'live', 'script', 'meets', 'needs', 'release', 'high', 'idea', 'night', 'alright', 'maybe', 'cool', 'eh', 'style', 'performances', 'lots', 'thing', 'times', 'actors', 'effort', 'uneven', 'fine', 'hollywood', 'favorite', 'dead', 'need', 'terrible', 'romantic', 'fair', 'picture', 'wrong', 'expect', 'light', 'oh', 'going', 'edition', 'characters', 'second', 'isn', 'production', 'weird', 'dated', 'wasn', 'read', 'budget', 'start', 'price', 'wanted', 'scenes', 'christmas']\n",
            "4:\n",
            "['good', 'movie', 'great', 'film', 'fun', 'better', 'story', 'best', 'classic', 'funny', 'dvd', 'love', 'like', 'entertaining', 'action', 'series', 'stars', 'bad', 'excellent', 'interesting', 'time', 'comedy', 'season', 'worth', 'pretty', 'nice', 'just', 'review', 'little', 'horror', 'enjoyable', 'really', 'watch', 'family', 'flick', 'movies', 'thriller', 'ray', 'blu', 'old', 'quot', 'don', 'life', 'drama', 'cute', 'new', 'original', 'liked', 'man', 'star', 'war', 'solid', 'expected', 'way', 'version', 'different', 'fi', 'set', 'sci', 'wonderful', 'surprisingly', 'collection', 'fans', 'real', 'acting', 'book', 'decent', 'true', 'beautiful', 'dark', 'look', 'watching', 'films', 'kids', 'sequel', 'western', 'tv', 'tale', 'entertainment', 'perfect', 'big', 'quite', 'quality', 'thought', 'cool', 'bit', 'history', 'awesome', 'workout', 'world', 'enjoyed', 'loved', 'fine', 'cast', 'ok', 'make', 'fan', 'long', 'plot', 'end', 'sweet', 'day', 'ending', 'favorite', 'does', 'people', 'scary', 'adventure', 'hilarious', 'romantic', 'christmas', 'know', 'performance', 'special', 'finally', 'think', 'music', 've', 'heart', 'years', 'say', 'makes', 'gets', 'video', 'hard', 'surprise', 'right', 'll', 'lot', 'high', 'night', 'amazing', 'want', 'got', 'mystery', 'performances', 'release', 'price', 'seen', 'disney', 'second', 'did', 'adaptation', 'john', 'work', 'remake', 'charming', 'bond', 'noir', 'gem', 'creepy', 'slow', 'american', 'kind', 'edition', 'stuff', 'documentary', 'enjoy', 'lots', 'live', 'short', 'romance', 'underrated', 'black', 'early', 'fantastic', 'style', 'buy', 'epic', 'light', 'twist', 'times', 'brilliant', 'meets', 'extras', 'age', 'modern', 'strong', 'suspense', 'fantasy', 'wow', 'ride', 'picture', 'dead', 'come', 'start', 'far', 'powerful', 'year', 'moving', 'king', 'feel', 'effects', 'worthy', 'sad', 'flawed', 'anime', 'need', 'musical', 'yes']\n",
            "5:\n",
            "['great', 'movie', 'best', 'love', 'good', 'film', 'classic', 'dvd', 'series', 'excellent', 'season', 'fun', 'story', 'time', 'funny', 'awesome', 'movies', 'wonderful', 'better', 'favorite', 'stars', 'like', 'loved', 'just', 'family', 'ray', 'amazing', 'comedy', 'blu', 'watch', 'action', 'tv', 'fantastic', 'collection', 'review', 'really', 'beautiful', 'old', 'life', 'masterpiece', 'set', 'true', 'don', 'new', 'films', 'horror', 'quot', 'man', 'christmas', 'worth', 'brilliant', 'wow', 'perfect', 'entertaining', 'greatest', 'star', 'finally', 'hilarious', 'fan', 'real', 'drama', 'seen', 'war', 'way', 'original', 'version', 'buy', 'outstanding', 'little', 've', 'years', 'fans', 'flick', 'nice', 'fi', 'complete', 'sci', 'world', 'superb', 'thriller', 'history', 'video', 'workout', 'disney', 'kids', 'entertainment', 'gift', 'bad', 'western', 'big', 'heart', 'edition', 'acting', 'music', 'long', 'enjoyable', 'cute', 'quality', 'day', 'book', 'dark', 'absolutely', 'year', 'say', 'make', 'interesting', 'shows', 'watching', 'american', 'price', 'want', 'john', 'does', 'gem', 'powerful', 'epic', 'll', 'anime', 'end', 'got', 'performance', 'release', 'gets', 'look', 'right', 'super', 'cool', 'adventure', 'tale', 'know', 'people', 'simply', 'yes', 'sweet', 'incredible', 'live', 'romantic', 'special', 'documentary', 'truly', 'king', 'terrific', 'come', 'oh', 'work', 'second', 'favorites', 'cast', 'far', 'high', 'rocks', 'scary', 'moving', 'need', 'thought', 'makes', 'night', 'bond', 'musical', 'happy', 'mystery', 'did', 'different', 'sequel', 'wait', 'trek', 'think', 'miss', 'enjoyed', 'fabulous', 'hard', 'seasons', 'black', '10', 'times', 'funniest', 'british', 'men', 'loves', 'television', 'laugh', 'stunning', 'highly', 'rock', 'memories', 'fine', 'touching', 'finest', 'modern', 'delightful', 'house', 'picture', 'concert', 'enjoy', 'home', 'lost', 'stuff', 'romance', 'surprise', 'feel']\n"
          ],
          "name": "stdout"
        }
      ]
    },
    {
      "cell_type": "code",
      "metadata": {
        "colab": {
          "base_uri": "https://localhost:8080/"
        },
        "id": "AV3YbBXqZpbx",
        "outputId": "2d161985-b89f-444a-ab4a-52b78ad2b69c"
      },
      "source": [
        "print('1:')\r\n",
        "uniques1_text = [w for w in score1_200_words if (w not in score2_200_words and w not in score3_200_words and w not in score4_200_words and w not in score5_200_words )]\r\n",
        "print(uniques1_text)\r\n",
        "print('2:')\r\n",
        "uniques2_text = [w for w in score2_200_words if (w not in score1_200_words and w not in score3_200_words and w not in score4_200_words and w not in score5_200_words )]\r\n",
        "print(uniques2_text)\r\n",
        "print('3:')\r\n",
        "uniques3_text = [w for w in score3_200_words if (w not in score2_200_words and w not in score1_200_words and w not in score4_200_words and w not in score5_200_words )]\r\n",
        "print(uniques3_text)\r\n",
        "print('4:')\r\n",
        "uniques4_text = [w for w in score4_200_words if (w not in score2_200_words and w not in score3_200_words and w not in score1_200_words and w not in score5_200_words )]\r\n",
        "print(uniques4_text)\r\n",
        "print('5:')\r\n",
        "uniques5_text = [w for w in score5_200_words if (w not in score2_200_words and w not in score3_200_words and w not in score4_200_words and w not in score1_200_words )]\r\n",
        "print(uniques5_text)"
      ],
      "execution_count": 37,
      "outputs": [
        {
          "output_type": "stream",
          "text": [
            "1:\n",
            "['garbage', 'crap', 'zero', 'sucks', 'trash', 'hate', 'total', 'avoid', 'away', 'rip', 'hated', 'god', 'play', 'warning', 'plain', 'ugh', 'amazon', 'piece', 'rating', 'dont', 'wish', 'hell', 'pathetic', 'junk', 'believe', 'stop', 'copy', 'disc', 'unwatchable', 'dreadful', 'hours', 'disaster', 'kidding', 'pure', 'joke', 'sucked', 'ridiculous', 'shame', 'propaganda', 'lousy', 'cheap', 'thinking', 'totally', 'cut', 'absolute', 'painful', 'stinks', 'finish']\n",
            "2:\n",
            "['missed', 'goes', 'premise', 'flat', 'hype', 'falls', 'director', 'sound', 'cheesy', 'confusing', 'blah']\n",
            "3:\n",
            "['mixed', 'moments', 'somewhat', 'watchable', 'sure', 'alright', 'eh', 'uneven', 'fair', 'expect']\n",
            "4:\n",
            "['surprisingly', 'adaptation', 'charming', 'noir', 'creepy', 'underrated', 'early', 'twist', 'extras', 'age', 'strong', 'suspense', 'fantasy', 'ride', 'worthy']\n",
            "5:\n",
            "['masterpiece', 'greatest', 'outstanding', 'superb', 'gift', 'shows', 'super', 'incredible', 'terrific', 'favorites', 'rocks', 'happy', 'trek', 'miss', 'fabulous', 'seasons', 'funniest', 'british', 'men', 'loves', 'television', 'laugh', 'stunning', 'highly', 'rock', 'memories', 'touching', 'finest', 'delightful', 'house', 'concert', 'home']\n"
          ],
          "name": "stdout"
        }
      ]
    },
    {
      "cell_type": "code",
      "metadata": {
        "id": "YMte-Yx-XmPK"
      },
      "source": [
        "uniques_text = [uniques1_text, uniques2_text, uniques3_text, uniques4_text, uniques5_text]"
      ],
      "execution_count": 38,
      "outputs": []
    },
    {
      "cell_type": "code",
      "metadata": {
        "id": "neBwYV1iZz0o"
      },
      "source": [
        ""
      ],
      "execution_count": null,
      "outputs": []
    },
    {
      "cell_type": "code",
      "metadata": {
        "id": "zoYTyIZSUrv5"
      },
      "source": [
        ""
      ],
      "execution_count": null,
      "outputs": []
    },
    {
      "cell_type": "code",
      "metadata": {
        "id": "pDdqNO60Dqsi"
      },
      "source": [
        "X_train_origin_processed = preprocess(X_train_origin, ws_array_normalized, the_vocab, ws_array_normalized2, the_vocab2, film_dic, user_dic, film_dic_std, user_dic_std, avg_all_scores, uniques_summary, uniques_text)"
      ],
      "execution_count": 65,
      "outputs": []
    },
    {
      "cell_type": "code",
      "metadata": {
        "id": "XFK8St38Dq4h"
      },
      "source": [
        "X_sub = preprocess(X_submission, ws_array_normalized, the_vocab, ws_array_normalized2, the_vocab2, film_dic, user_dic, film_dic_std, user_dic_std, avg_all_scores, uniques_summary, uniques_text).drop(['Score'], axis=1)"
      ],
      "execution_count": 66,
      "outputs": []
    },
    {
      "cell_type": "code",
      "metadata": {
        "id": "0pMNnaHcVwrb"
      },
      "source": [
        ""
      ],
      "execution_count": null,
      "outputs": []
    },
    {
      "cell_type": "code",
      "metadata": {
        "id": "beXqxNkbVw3p"
      },
      "source": [
        ""
      ],
      "execution_count": null,
      "outputs": []
    },
    {
      "cell_type": "code",
      "metadata": {
        "id": "cY5lG28WGcRj"
      },
      "source": [
        "X_train_origin_processed.to_csv(\"/content/gdrive/My Drive/Colab Notebooks/data/X_train_origin_processed.csv\", index=False)\r\n",
        "X_sub.to_csv(\"/content/gdrive/My Drive/Colab Notebooks/data/X_sub.csv\", index=False)"
      ],
      "execution_count": 67,
      "outputs": []
    },
    {
      "cell_type": "code",
      "metadata": {
        "id": "bu4NI0dKGcch"
      },
      "source": [
        ""
      ],
      "execution_count": null,
      "outputs": []
    },
    {
      "cell_type": "code",
      "metadata": {
        "id": "67h9GXQBGcn7"
      },
      "source": [
        "X_train_origin_processed_nn = preprocess_nonnegative(X_train_origin, ws_array_normalized, the_vocab, ws_array_normalized2, the_vocab2, film_dic, user_dic, film_dic_std, user_dic_std, avg_all_scores, uniques_summary, uniques_text)"
      ],
      "execution_count": 68,
      "outputs": []
    },
    {
      "cell_type": "code",
      "metadata": {
        "id": "iHPzJZQLGczJ"
      },
      "source": [
        "X_sub_nn = preprocess_nonnegative(X_submission, ws_array_normalized, the_vocab, ws_array_normalized2, the_vocab2, film_dic, user_dic, film_dic_std, user_dic_std, avg_all_scores, uniques_summary, uniques_text).drop(['Score'], axis=1)"
      ],
      "execution_count": 69,
      "outputs": []
    },
    {
      "cell_type": "code",
      "metadata": {
        "id": "iFsZWJaNDrEh"
      },
      "source": [
        "X_train_origin_processed_nn.to_csv(\"/content/gdrive/My Drive/Colab Notebooks/data/X_train_origin_processed_nn.csv\", index=False)\r\n",
        "X_sub_nn.to_csv(\"/content/gdrive/My Drive/Colab Notebooks/data/X_sub_nn.csv\", index=False)"
      ],
      "execution_count": 70,
      "outputs": []
    }
  ]
}